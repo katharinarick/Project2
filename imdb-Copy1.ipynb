{
 "cells": [
  {
   "cell_type": "markdown",
   "metadata": {},
   "source": [
    "<img src=\"http://imgur.com/1ZcRyrc.png\" style=\"float: left; margin: 20px; height: 55px\">\n",
    "\n",
    "# Project 2: Analyzing IMDb Data\n",
    "\n",
    "_Author: Kevin Markham (DC)_\n",
    "\n",
    "---"
   ]
  },
  {
   "cell_type": "markdown",
   "metadata": {},
   "source": [
    "For project two, you will complete a serious of exercises exploring movie rating data from IMDb.\n",
    "\n",
    "For these exercises, you will be conducting basic exploratory data analysis on IMDB's movie data, looking to answer such questions as:\n",
    "\n",
    "What is the average rating per genre?\n",
    "How many different actors are in a movie?\n",
    "\n",
    "This process will help you practice your data analysis skills while becoming comfortable with Pandas."
   ]
  },
  {
   "cell_type": "markdown",
   "metadata": {},
   "source": [
    "## Basic level"
   ]
  },
  {
   "cell_type": "code",
   "execution_count": 2,
   "metadata": {
    "collapsed": true
   },
   "outputs": [],
   "source": [
    "import pandas as pd\n",
    "import matplotlib.pyplot as plt\n",
    "%matplotlib inline"
   ]
  },
  {
   "cell_type": "markdown",
   "metadata": {},
   "source": [
    "#### Read in 'imdb_1000.csv' and store it in a DataFrame named movies."
   ]
  },
  {
   "cell_type": "code",
   "execution_count": 3,
   "metadata": {},
   "outputs": [
    {
     "data": {
      "text/html": [
       "<div>\n",
       "<style>\n",
       "    .dataframe thead tr:only-child th {\n",
       "        text-align: right;\n",
       "    }\n",
       "\n",
       "    .dataframe thead th {\n",
       "        text-align: left;\n",
       "    }\n",
       "\n",
       "    .dataframe tbody tr th {\n",
       "        vertical-align: top;\n",
       "    }\n",
       "</style>\n",
       "<table border=\"1\" class=\"dataframe\">\n",
       "  <thead>\n",
       "    <tr style=\"text-align: right;\">\n",
       "      <th></th>\n",
       "      <th>star_rating</th>\n",
       "      <th>title</th>\n",
       "      <th>content_rating</th>\n",
       "      <th>genre</th>\n",
       "      <th>duration</th>\n",
       "      <th>actors_list</th>\n",
       "    </tr>\n",
       "  </thead>\n",
       "  <tbody>\n",
       "    <tr>\n",
       "      <th>0</th>\n",
       "      <td>9.3</td>\n",
       "      <td>The Shawshank Redemption</td>\n",
       "      <td>R</td>\n",
       "      <td>Crime</td>\n",
       "      <td>142</td>\n",
       "      <td>[u'Tim Robbins', u'Morgan Freeman', u'Bob Gunt...</td>\n",
       "    </tr>\n",
       "    <tr>\n",
       "      <th>1</th>\n",
       "      <td>9.2</td>\n",
       "      <td>The Godfather</td>\n",
       "      <td>R</td>\n",
       "      <td>Crime</td>\n",
       "      <td>175</td>\n",
       "      <td>[u'Marlon Brando', u'Al Pacino', u'James Caan']</td>\n",
       "    </tr>\n",
       "    <tr>\n",
       "      <th>2</th>\n",
       "      <td>9.1</td>\n",
       "      <td>The Godfather: Part II</td>\n",
       "      <td>R</td>\n",
       "      <td>Crime</td>\n",
       "      <td>200</td>\n",
       "      <td>[u'Al Pacino', u'Robert De Niro', u'Robert Duv...</td>\n",
       "    </tr>\n",
       "    <tr>\n",
       "      <th>3</th>\n",
       "      <td>9.0</td>\n",
       "      <td>The Dark Knight</td>\n",
       "      <td>PG-13</td>\n",
       "      <td>Action</td>\n",
       "      <td>152</td>\n",
       "      <td>[u'Christian Bale', u'Heath Ledger', u'Aaron E...</td>\n",
       "    </tr>\n",
       "    <tr>\n",
       "      <th>4</th>\n",
       "      <td>8.9</td>\n",
       "      <td>Pulp Fiction</td>\n",
       "      <td>R</td>\n",
       "      <td>Crime</td>\n",
       "      <td>154</td>\n",
       "      <td>[u'John Travolta', u'Uma Thurman', u'Samuel L....</td>\n",
       "    </tr>\n",
       "  </tbody>\n",
       "</table>\n",
       "</div>"
      ],
      "text/plain": [
       "   star_rating                     title content_rating   genre  duration  \\\n",
       "0          9.3  The Shawshank Redemption              R   Crime       142   \n",
       "1          9.2             The Godfather              R   Crime       175   \n",
       "2          9.1    The Godfather: Part II              R   Crime       200   \n",
       "3          9.0           The Dark Knight          PG-13  Action       152   \n",
       "4          8.9              Pulp Fiction              R   Crime       154   \n",
       "\n",
       "                                         actors_list  \n",
       "0  [u'Tim Robbins', u'Morgan Freeman', u'Bob Gunt...  \n",
       "1    [u'Marlon Brando', u'Al Pacino', u'James Caan']  \n",
       "2  [u'Al Pacino', u'Robert De Niro', u'Robert Duv...  \n",
       "3  [u'Christian Bale', u'Heath Ledger', u'Aaron E...  \n",
       "4  [u'John Travolta', u'Uma Thurman', u'Samuel L....  "
      ]
     },
     "execution_count": 3,
     "metadata": {},
     "output_type": "execute_result"
    }
   ],
   "source": [
    "movies = pd.read_csv('C:/users/rickk/Documents/DataScience/GeneralAssembly/Project02/data/imdb_1000.csv')\n",
    "movies.head()"
   ]
  },
  {
   "cell_type": "markdown",
   "metadata": {},
   "source": [
    "#### Check the number of rows and columns."
   ]
  },
  {
   "cell_type": "code",
   "execution_count": 4,
   "metadata": {},
   "outputs": [
    {
     "data": {
      "text/plain": [
       "(979, 6)"
      ]
     },
     "execution_count": 4,
     "metadata": {},
     "output_type": "execute_result"
    }
   ],
   "source": [
    "# Answer: apply shape. 979 rows and 6 columns\n",
    "movies.shape"
   ]
  },
  {
   "cell_type": "markdown",
   "metadata": {},
   "source": [
    "#### Check the data type of each column."
   ]
  },
  {
   "cell_type": "code",
   "execution_count": 5,
   "metadata": {},
   "outputs": [
    {
     "data": {
      "text/plain": [
       "star_rating       float64\n",
       "title              object\n",
       "content_rating     object\n",
       "genre              object\n",
       "duration            int64\n",
       "actors_list        object\n",
       "dtype: object"
      ]
     },
     "execution_count": 5,
     "metadata": {},
     "output_type": "execute_result"
    }
   ],
   "source": [
    "# Answer: apply dtypes. 1 integer (duration), 1 float (star_rating), all other columns are object, which makes sense\n",
    "movies.dtypes"
   ]
  },
  {
   "cell_type": "code",
   "execution_count": 6,
   "metadata": {},
   "outputs": [
    {
     "data": {
      "text/plain": [
       "star_rating       0\n",
       "title             0\n",
       "content_rating    3\n",
       "genre             0\n",
       "duration          0\n",
       "actors_list       0\n",
       "dtype: int64"
      ]
     },
     "execution_count": 6,
     "metadata": {},
     "output_type": "execute_result"
    }
   ],
   "source": [
    "# quick check on whether there are any null values or NaN, which does not seem to be the case --- clean set for once. Thanks.\n",
    "movies.isnull().sum()"
   ]
  },
  {
   "cell_type": "markdown",
   "metadata": {},
   "source": [
    "#### Calculate the average movie duration."
   ]
  },
  {
   "cell_type": "code",
   "execution_count": 7,
   "metadata": {},
   "outputs": [
    {
     "data": {
      "text/plain": [
       "120.97957099080695"
      ]
     },
     "execution_count": 7,
     "metadata": {},
     "output_type": "execute_result"
    }
   ],
   "source": [
    "# Answer: select column \"duration\" and apply .mean() method. Your average movies runs for ~2 hours\n",
    "movies.loc[:,'duration'].mean()"
   ]
  },
  {
   "cell_type": "markdown",
   "metadata": {},
   "source": [
    "#### Sort the DataFrame by duration to find the shortest and longest movies."
   ]
  },
  {
   "cell_type": "code",
   "execution_count": 8,
   "metadata": {},
   "outputs": [
    {
     "data": {
      "text/html": [
       "<div>\n",
       "<style>\n",
       "    .dataframe thead tr:only-child th {\n",
       "        text-align: right;\n",
       "    }\n",
       "\n",
       "    .dataframe thead th {\n",
       "        text-align: left;\n",
       "    }\n",
       "\n",
       "    .dataframe tbody tr th {\n",
       "        vertical-align: top;\n",
       "    }\n",
       "</style>\n",
       "<table border=\"1\" class=\"dataframe\">\n",
       "  <thead>\n",
       "    <tr style=\"text-align: right;\">\n",
       "      <th></th>\n",
       "      <th>star_rating</th>\n",
       "      <th>duration</th>\n",
       "    </tr>\n",
       "  </thead>\n",
       "  <tbody>\n",
       "    <tr>\n",
       "      <th>count</th>\n",
       "      <td>979.000000</td>\n",
       "      <td>979.000000</td>\n",
       "    </tr>\n",
       "    <tr>\n",
       "      <th>mean</th>\n",
       "      <td>7.889785</td>\n",
       "      <td>120.979571</td>\n",
       "    </tr>\n",
       "    <tr>\n",
       "      <th>std</th>\n",
       "      <td>0.336069</td>\n",
       "      <td>26.218010</td>\n",
       "    </tr>\n",
       "    <tr>\n",
       "      <th>min</th>\n",
       "      <td>7.400000</td>\n",
       "      <td>64.000000</td>\n",
       "    </tr>\n",
       "    <tr>\n",
       "      <th>25%</th>\n",
       "      <td>7.600000</td>\n",
       "      <td>102.000000</td>\n",
       "    </tr>\n",
       "    <tr>\n",
       "      <th>50%</th>\n",
       "      <td>7.800000</td>\n",
       "      <td>117.000000</td>\n",
       "    </tr>\n",
       "    <tr>\n",
       "      <th>75%</th>\n",
       "      <td>8.100000</td>\n",
       "      <td>134.000000</td>\n",
       "    </tr>\n",
       "    <tr>\n",
       "      <th>max</th>\n",
       "      <td>9.300000</td>\n",
       "      <td>242.000000</td>\n",
       "    </tr>\n",
       "  </tbody>\n",
       "</table>\n",
       "</div>"
      ],
      "text/plain": [
       "       star_rating    duration\n",
       "count   979.000000  979.000000\n",
       "mean      7.889785  120.979571\n",
       "std       0.336069   26.218010\n",
       "min       7.400000   64.000000\n",
       "25%       7.600000  102.000000\n",
       "50%       7.800000  117.000000\n",
       "75%       8.100000  134.000000\n",
       "max       9.300000  242.000000"
      ]
     },
     "execution_count": 8,
     "metadata": {},
     "output_type": "execute_result"
    }
   ],
   "source": [
    "movies.describe()"
   ]
  },
  {
   "cell_type": "code",
   "execution_count": 9,
   "metadata": {},
   "outputs": [
    {
     "data": {
      "text/html": [
       "<div>\n",
       "<style>\n",
       "    .dataframe thead tr:only-child th {\n",
       "        text-align: right;\n",
       "    }\n",
       "\n",
       "    .dataframe thead th {\n",
       "        text-align: left;\n",
       "    }\n",
       "\n",
       "    .dataframe tbody tr th {\n",
       "        vertical-align: top;\n",
       "    }\n",
       "</style>\n",
       "<table border=\"1\" class=\"dataframe\">\n",
       "  <thead>\n",
       "    <tr style=\"text-align: right;\">\n",
       "      <th></th>\n",
       "      <th>star_rating</th>\n",
       "      <th>title</th>\n",
       "      <th>content_rating</th>\n",
       "      <th>genre</th>\n",
       "      <th>duration</th>\n",
       "      <th>actors_list</th>\n",
       "    </tr>\n",
       "  </thead>\n",
       "  <tbody>\n",
       "    <tr>\n",
       "      <th>389</th>\n",
       "      <td>8.0</td>\n",
       "      <td>Freaks</td>\n",
       "      <td>UNRATED</td>\n",
       "      <td>Drama</td>\n",
       "      <td>64</td>\n",
       "      <td>[u'Wallace Ford', u'Leila Hyams', u'Olga Bacla...</td>\n",
       "    </tr>\n",
       "  </tbody>\n",
       "</table>\n",
       "</div>"
      ],
      "text/plain": [
       "     star_rating   title content_rating  genre  duration  \\\n",
       "389          8.0  Freaks        UNRATED  Drama        64   \n",
       "\n",
       "                                           actors_list  \n",
       "389  [u'Wallace Ford', u'Leila Hyams', u'Olga Bacla...  "
      ]
     },
     "execution_count": 9,
     "metadata": {},
     "output_type": "execute_result"
    }
   ],
   "source": [
    "# Answer: select the movie(s) that equal the shortest duration (64min), as defined by .min() method and store that in a variable\n",
    "# use variable to print out all rows that fulfill the minimum condition as True\n",
    "shortest = movies.loc[:,'duration'] == movies.loc[:,'duration'].min()\n",
    "movies.loc[shortest,:]"
   ]
  },
  {
   "cell_type": "markdown",
   "metadata": {},
   "source": [
    "**Answer**: The shortest movie with **64 min** in the imdb dataset is called **Freaks** and features actors like Leila Hyams and Wallace Ford."
   ]
  },
  {
   "cell_type": "code",
   "execution_count": 10,
   "metadata": {},
   "outputs": [
    {
     "data": {
      "text/html": [
       "<div>\n",
       "<style>\n",
       "    .dataframe thead tr:only-child th {\n",
       "        text-align: right;\n",
       "    }\n",
       "\n",
       "    .dataframe thead th {\n",
       "        text-align: left;\n",
       "    }\n",
       "\n",
       "    .dataframe tbody tr th {\n",
       "        vertical-align: top;\n",
       "    }\n",
       "</style>\n",
       "<table border=\"1\" class=\"dataframe\">\n",
       "  <thead>\n",
       "    <tr style=\"text-align: right;\">\n",
       "      <th></th>\n",
       "      <th>star_rating</th>\n",
       "      <th>title</th>\n",
       "      <th>content_rating</th>\n",
       "      <th>genre</th>\n",
       "      <th>duration</th>\n",
       "      <th>actors_list</th>\n",
       "    </tr>\n",
       "  </thead>\n",
       "  <tbody>\n",
       "    <tr>\n",
       "      <th>476</th>\n",
       "      <td>7.8</td>\n",
       "      <td>Hamlet</td>\n",
       "      <td>PG-13</td>\n",
       "      <td>Drama</td>\n",
       "      <td>242</td>\n",
       "      <td>[u'Kenneth Branagh', u'Julie Christie', u'Dere...</td>\n",
       "    </tr>\n",
       "  </tbody>\n",
       "</table>\n",
       "</div>"
      ],
      "text/plain": [
       "     star_rating   title content_rating  genre  duration  \\\n",
       "476          7.8  Hamlet          PG-13  Drama       242   \n",
       "\n",
       "                                           actors_list  \n",
       "476  [u'Kenneth Branagh', u'Julie Christie', u'Dere...  "
      ]
     },
     "execution_count": 10,
     "metadata": {},
     "output_type": "execute_result"
    }
   ],
   "source": [
    "# Answer: select the movie(s) that equal the max duration (242min), as defined by .max() method and store that in a variable\n",
    "longest = movies.loc[:,'duration'] == movies.loc[:,'duration'].max()\n",
    "movies.loc[longest,:]"
   ]
  },
  {
   "cell_type": "markdown",
   "metadata": {},
   "source": [
    "**Answer**: The longest movie in the imdb dataset is an adaptation of William Shakespeare's **Hamlet** that runs for **4 hours straight**"
   ]
  },
  {
   "cell_type": "markdown",
   "metadata": {},
   "source": [
    "#### Create a histogram of duration, choosing an \"appropriate\" number of bins."
   ]
  },
  {
   "cell_type": "code",
   "execution_count": 11,
   "metadata": {},
   "outputs": [
    {
     "data": {
      "image/png": "[encoded data removed]",
      "text/plain": [
       "<matplotlib.figure.Figure at 0x207b65396d8>"
      ]
     },
     "metadata": {},
     "output_type": "display_data"
    }
   ],
   "source": [
    "# Answer: Use .plot(hist) with various parameters. bin size=30 seems to show enough but not too much granularity\n",
    "# with smaller bin sizes it's hard to see the differentiation between 100 and 130 minutes length as well as past 160 min length\n",
    "movies.loc[:,'duration'].plot(kind='hist', x='duration', bins=30, color='darkgreen',\n",
    "                             figsize=(8,5));\n",
    "plt.xlabel('Duration');\n",
    "plt.ylabel('Count');\n",
    "plt.title('Number of movies per duration');"
   ]
  },
  {
   "cell_type": "markdown",
   "metadata": {},
   "source": [
    "#### Use a box plot to display that same data."
   ]
  },
  {
   "cell_type": "code",
   "execution_count": 12,
   "metadata": {},
   "outputs": [
    {
     "data": {
      "image/png": "[encoded data removed]",
      "text/plain": [
       "<matplotlib.figure.Figure at 0x207b64def60>"
      ]
     },
     "metadata": {},
     "output_type": "display_data"
    }
   ],
   "source": [
    "# Answer: The box plot re-confirms the average of ~120 minutes and also shows the 25%-tile and 75%-tile\n",
    "movies.loc[:,'duration'].plot(kind='box', figsize=(8,5));\n",
    "plt.xlabel('Distribution of duration')\n",
    "plt.ylabel('Duration');"
   ]
  },
  {
   "cell_type": "markdown",
   "metadata": {},
   "source": [
    "## Intermediate level"
   ]
  },
  {
   "cell_type": "markdown",
   "metadata": {},
   "source": [
    "#### Count how many movies have each of the content ratings."
   ]
  },
  {
   "cell_type": "code",
   "execution_count": 13,
   "metadata": {},
   "outputs": [
    {
     "data": {
      "text/plain": [
       "R            460\n",
       "PG-13        189\n",
       "PG           123\n",
       "NOT RATED     65\n",
       "APPROVED      47\n",
       "UNRATED       38\n",
       "G             32\n",
       "PASSED         7\n",
       "NC-17          7\n",
       "X              4\n",
       "GP             3\n",
       "TV-MA          1\n",
       "Name: content_rating, dtype: int64"
      ]
     },
     "execution_count": 13,
     "metadata": {},
     "output_type": "execute_result"
    }
   ],
   "source": [
    "# Answer: count values in column 'content_rating' which reveals that half of the movies are rated R, followed by PG-13 with 189\n",
    "movies.loc[:,'content_rating'].value_counts()"
   ]
  },
  {
   "cell_type": "markdown",
   "metadata": {},
   "source": [
    "#### Use a visualization to display that same data, including a title and x and y labels."
   ]
  },
  {
   "cell_type": "code",
   "execution_count": 14,
   "metadata": {},
   "outputs": [
    {
     "data": {
      "image/png": "[encoded data removed]",
      "text/plain": [
       "<matplotlib.figure.Figure at 0x207b64defd0>"
      ]
     },
     "metadata": {},
     "output_type": "display_data"
    }
   ],
   "source": [
    "# Answer: Data is not continuous to bar chart makes most sense. Either horizontal (here) or vertical (without 'h' classifier)\n",
    "movies.loc[:,'content_rating'].value_counts(ascending=True).plot(kind='barh', figsize=(6,8), color='darkgreen');\n",
    "plt.xlabel('Count of movies');\n",
    "plt.ylabel('Content Rating');\n",
    "plt.title('Number of movies per content rating category');"
   ]
  },
  {
   "cell_type": "markdown",
   "metadata": {},
   "source": [
    "#### Convert the following content ratings to \"UNRATED\": NOT RATED, APPROVED, PASSED, GP."
   ]
  },
  {
   "cell_type": "code",
   "execution_count": 15,
   "metadata": {},
   "outputs": [
    {
     "data": {
      "text/plain": [
       "R          460\n",
       "PG-13      189\n",
       "UNRATED    160\n",
       "PG         123\n",
       "G           32\n",
       "NC-17        7\n",
       "X            4\n",
       "TV-MA        1\n",
       "Name: content_rating, dtype: int64"
      ]
     },
     "execution_count": 15,
     "metadata": {},
     "output_type": "execute_result"
    }
   ],
   "source": [
    "# Answer: replace function\n",
    "movies.loc[:,'content_rating'].replace(['NOT RATED','APPROVED','PASSED','GP'],'UNRATED', inplace=True)\n",
    "movies.loc[:,'content_rating'].value_counts()"
   ]
  },
  {
   "cell_type": "markdown",
   "metadata": {},
   "source": [
    "#### Convert the following content ratings to \"NC-17\": X, TV-MA."
   ]
  },
  {
   "cell_type": "code",
   "execution_count": 16,
   "metadata": {},
   "outputs": [
    {
     "data": {
      "text/plain": [
       "R          460\n",
       "PG-13      189\n",
       "UNRATED    160\n",
       "PG         123\n",
       "G           32\n",
       "NC-17       12\n",
       "Name: content_rating, dtype: int64"
      ]
     },
     "execution_count": 16,
     "metadata": {},
     "output_type": "execute_result"
    }
   ],
   "source": [
    "# Answer: replace function\n",
    "movies.loc[:,'content_rating'].replace(['X','TV-MA'],'NC-17', inplace=True)\n",
    "movies.loc[:,'content_rating'].value_counts()"
   ]
  },
  {
   "cell_type": "markdown",
   "metadata": {},
   "source": [
    "#### Count the number of missing values in each column."
   ]
  },
  {
   "cell_type": "code",
   "execution_count": 17,
   "metadata": {},
   "outputs": [
    {
     "data": {
      "text/plain": [
       "star_rating       0\n",
       "title             0\n",
       "content_rating    3\n",
       "genre             0\n",
       "duration          0\n",
       "actors_list       0\n",
       "dtype: int64"
      ]
     },
     "execution_count": 17,
     "metadata": {},
     "output_type": "execute_result"
    }
   ],
   "source": [
    "# Answer: Three movies have no content rating\n",
    "movies.isnull().sum()"
   ]
  },
  {
   "cell_type": "markdown",
   "metadata": {},
   "source": [
    "#### If there are missing values: examine them, then fill them in with \"reasonable\" values."
   ]
  },
  {
   "cell_type": "code",
   "execution_count": 18,
   "metadata": {},
   "outputs": [
    {
     "data": {
      "text/html": [
       "<div>\n",
       "<style>\n",
       "    .dataframe thead tr:only-child th {\n",
       "        text-align: right;\n",
       "    }\n",
       "\n",
       "    .dataframe thead th {\n",
       "        text-align: left;\n",
       "    }\n",
       "\n",
       "    .dataframe tbody tr th {\n",
       "        vertical-align: top;\n",
       "    }\n",
       "</style>\n",
       "<table border=\"1\" class=\"dataframe\">\n",
       "  <thead>\n",
       "    <tr style=\"text-align: right;\">\n",
       "      <th></th>\n",
       "      <th>star_rating</th>\n",
       "      <th>title</th>\n",
       "      <th>content_rating</th>\n",
       "      <th>genre</th>\n",
       "      <th>duration</th>\n",
       "      <th>actors_list</th>\n",
       "    </tr>\n",
       "  </thead>\n",
       "  <tbody>\n",
       "    <tr>\n",
       "      <th>187</th>\n",
       "      <td>8.2</td>\n",
       "      <td>Butch Cassidy and the Sundance Kid</td>\n",
       "      <td>NaN</td>\n",
       "      <td>Biography</td>\n",
       "      <td>110</td>\n",
       "      <td>[u'Paul Newman', u'Robert Redford', u'Katharin...</td>\n",
       "    </tr>\n",
       "    <tr>\n",
       "      <th>649</th>\n",
       "      <td>7.7</td>\n",
       "      <td>Where Eagles Dare</td>\n",
       "      <td>NaN</td>\n",
       "      <td>Action</td>\n",
       "      <td>158</td>\n",
       "      <td>[u'Richard Burton', u'Clint Eastwood', u'Mary ...</td>\n",
       "    </tr>\n",
       "    <tr>\n",
       "      <th>936</th>\n",
       "      <td>7.4</td>\n",
       "      <td>True Grit</td>\n",
       "      <td>NaN</td>\n",
       "      <td>Adventure</td>\n",
       "      <td>128</td>\n",
       "      <td>[u'John Wayne', u'Kim Darby', u'Glen Campbell']</td>\n",
       "    </tr>\n",
       "  </tbody>\n",
       "</table>\n",
       "</div>"
      ],
      "text/plain": [
       "     star_rating                               title content_rating  \\\n",
       "187          8.2  Butch Cassidy and the Sundance Kid            NaN   \n",
       "649          7.7                   Where Eagles Dare            NaN   \n",
       "936          7.4                           True Grit            NaN   \n",
       "\n",
       "         genre  duration                                        actors_list  \n",
       "187  Biography       110  [u'Paul Newman', u'Robert Redford', u'Katharin...  \n",
       "649     Action       158  [u'Richard Burton', u'Clint Eastwood', u'Mary ...  \n",
       "936  Adventure       128    [u'John Wayne', u'Kim Darby', u'Glen Campbell']  "
      ]
     },
     "execution_count": 18,
     "metadata": {},
     "output_type": "execute_result"
    }
   ],
   "source": [
    "# Answer: The three movies are from different genres and should have different content ratings\n",
    "# Quick google-search: Butch Cassidy and the Sundance Kid, Where Eagles Dare are rated PG; True Grit is rated G\n",
    "movies.loc[movies.loc[:,'content_rating'].isnull(),:]"
   ]
  },
  {
   "cell_type": "code",
   "execution_count": 19,
   "metadata": {},
   "outputs": [
    {
     "name": "stdout",
     "output_type": "stream",
     "text": [
      "PG PG G\n"
     ]
    }
   ],
   "source": [
    "movies.iloc[187,2] = 'PG'\n",
    "movies.iloc[649,2] = 'PG'\n",
    "movies.iloc[936,2] = 'G'\n",
    "print(movies.iloc[187,2], movies.iloc[649,2], movies.iloc[936,2])"
   ]
  },
  {
   "cell_type": "code",
   "execution_count": 20,
   "metadata": {},
   "outputs": [
    {
     "data": {
      "text/plain": [
       "0"
      ]
     },
     "execution_count": 20,
     "metadata": {},
     "output_type": "execute_result"
    }
   ],
   "source": [
    "# check if missing values are gone\n",
    "movies.loc[:,'content_rating'].isnull().sum()"
   ]
  },
  {
   "cell_type": "markdown",
   "metadata": {},
   "source": [
    "#### Calculate the average star rating for movies 2 hours or longer, and compare that with the average star rating for movies shorter than 2 hours."
   ]
  },
  {
   "cell_type": "code",
   "execution_count": 21,
   "metadata": {},
   "outputs": [],
   "source": [
    "# Answer: split data into two groups based on column 'duration'\n",
    "s = 120\n",
    "\n",
    "df_long_movies = movies.loc[movies.loc[:,'duration'] >= s,:]\n",
    "df_short_movies= movies.loc[movies.loc[:,'duration'] < s, :]"
   ]
  },
  {
   "cell_type": "code",
   "execution_count": 22,
   "metadata": {},
   "outputs": [
    {
     "name": "stdout",
     "output_type": "stream",
     "text": [
      "star_rating      7.948899\n",
      "duration       142.458150\n",
      "dtype: float64\n",
      "star_rating      7.838667\n",
      "duration       102.405714\n",
      "dtype: float64\n"
     ]
    }
   ],
   "source": [
    "# to calculate the average we apply .mean() method - the star rating is not that different. 7.95 for long and 7.84 for short\n",
    "print(df_long_movies.mean())\n",
    "print(df_short_movies.mean())"
   ]
  },
  {
   "cell_type": "code",
   "execution_count": 23,
   "metadata": {},
   "outputs": [
    {
     "data": {
      "text/html": [
       "<div>\n",
       "<style>\n",
       "    .dataframe thead tr:only-child th {\n",
       "        text-align: right;\n",
       "    }\n",
       "\n",
       "    .dataframe thead th {\n",
       "        text-align: left;\n",
       "    }\n",
       "\n",
       "    .dataframe tbody tr th {\n",
       "        vertical-align: top;\n",
       "    }\n",
       "</style>\n",
       "<table border=\"1\" class=\"dataframe\">\n",
       "  <thead>\n",
       "    <tr style=\"text-align: right;\">\n",
       "      <th></th>\n",
       "      <th>star_rating</th>\n",
       "      <th>duration</th>\n",
       "    </tr>\n",
       "  </thead>\n",
       "  <tbody>\n",
       "    <tr>\n",
       "      <th>count</th>\n",
       "      <td>525.000000</td>\n",
       "      <td>525.000000</td>\n",
       "    </tr>\n",
       "    <tr>\n",
       "      <th>mean</th>\n",
       "      <td>7.838667</td>\n",
       "      <td>102.405714</td>\n",
       "    </tr>\n",
       "    <tr>\n",
       "      <th>std</th>\n",
       "      <td>0.302361</td>\n",
       "      <td>11.180902</td>\n",
       "    </tr>\n",
       "    <tr>\n",
       "      <th>min</th>\n",
       "      <td>7.400000</td>\n",
       "      <td>64.000000</td>\n",
       "    </tr>\n",
       "    <tr>\n",
       "      <th>25%</th>\n",
       "      <td>7.600000</td>\n",
       "      <td>95.000000</td>\n",
       "    </tr>\n",
       "    <tr>\n",
       "      <th>50%</th>\n",
       "      <td>7.800000</td>\n",
       "      <td>103.000000</td>\n",
       "    </tr>\n",
       "    <tr>\n",
       "      <th>75%</th>\n",
       "      <td>8.000000</td>\n",
       "      <td>112.000000</td>\n",
       "    </tr>\n",
       "    <tr>\n",
       "      <th>max</th>\n",
       "      <td>8.900000</td>\n",
       "      <td>119.000000</td>\n",
       "    </tr>\n",
       "  </tbody>\n",
       "</table>\n",
       "</div>"
      ],
      "text/plain": [
       "       star_rating    duration\n",
       "count   525.000000  525.000000\n",
       "mean      7.838667  102.405714\n",
       "std       0.302361   11.180902\n",
       "min       7.400000   64.000000\n",
       "25%       7.600000   95.000000\n",
       "50%       7.800000  103.000000\n",
       "75%       8.000000  112.000000\n",
       "max       8.900000  119.000000"
      ]
     },
     "execution_count": 23,
     "metadata": {},
     "output_type": "execute_result"
    }
   ],
   "source": [
    "# can double check on df_long_movies and df_short_movies here:\n",
    "df_short_movies.describe()"
   ]
  },
  {
   "cell_type": "markdown",
   "metadata": {},
   "source": [
    "#### Use a visualization to detect whether there is a relationship between duration and star rating."
   ]
  },
  {
   "cell_type": "code",
   "execution_count": 24,
   "metadata": {},
   "outputs": [
    {
     "data": {
      "image/png": "[encoded data removed]",
      "text/plain": [
       "<matplotlib.figure.Figure at 0x207b7cdb470>"
      ]
     },
     "metadata": {},
     "output_type": "display_data"
    }
   ],
   "source": [
    "# Answer: scatterplot x=duration, y='star_rating'\n",
    "movies.plot(kind='scatter', x='duration', y='star_rating',\n",
    "           color='darkgreen', alpha=0.3);"
   ]
  },
  {
   "cell_type": "code",
   "execution_count": 25,
   "metadata": {},
   "outputs": [
    {
     "data": {
      "text/html": [
       "<div>\n",
       "<style>\n",
       "    .dataframe thead tr:only-child th {\n",
       "        text-align: right;\n",
       "    }\n",
       "\n",
       "    .dataframe thead th {\n",
       "        text-align: left;\n",
       "    }\n",
       "\n",
       "    .dataframe tbody tr th {\n",
       "        vertical-align: top;\n",
       "    }\n",
       "</style>\n",
       "<table border=\"1\" class=\"dataframe\">\n",
       "  <thead>\n",
       "    <tr style=\"text-align: right;\">\n",
       "      <th></th>\n",
       "      <th>star_rating</th>\n",
       "      <th>duration</th>\n",
       "    </tr>\n",
       "  </thead>\n",
       "  <tbody>\n",
       "    <tr>\n",
       "      <th>star_rating</th>\n",
       "      <td>1.000000</td>\n",
       "      <td>0.227149</td>\n",
       "    </tr>\n",
       "    <tr>\n",
       "      <th>duration</th>\n",
       "      <td>0.227149</td>\n",
       "      <td>1.000000</td>\n",
       "    </tr>\n",
       "  </tbody>\n",
       "</table>\n",
       "</div>"
      ],
      "text/plain": [
       "             star_rating  duration\n",
       "star_rating     1.000000  0.227149\n",
       "duration        0.227149  1.000000"
      ]
     },
     "execution_count": 25,
     "metadata": {},
     "output_type": "execute_result"
    }
   ],
   "source": [
    "movies.corr()"
   ]
  },
  {
   "cell_type": "markdown",
   "metadata": {},
   "source": [
    "#### Calculate the average duration for each genre."
   ]
  },
  {
   "cell_type": "code",
   "execution_count": 26,
   "metadata": {},
   "outputs": [
    {
     "data": {
      "text/plain": [
       "genre\n",
       "Action       126.485294\n",
       "Adventure    134.840000\n",
       "Animation     96.596774\n",
       "Biography    131.844156\n",
       "Comedy       107.602564\n",
       "Crime        122.298387\n",
       "Drama        126.539568\n",
       "Family       107.500000\n",
       "Fantasy      112.000000\n",
       "Film-Noir     97.333333\n",
       "History       66.000000\n",
       "Horror       102.517241\n",
       "Mystery      115.625000\n",
       "Sci-Fi       109.000000\n",
       "Thriller     114.200000\n",
       "Western      136.666667\n",
       "Name: duration, dtype: float64"
      ]
     },
     "execution_count": 26,
     "metadata": {},
     "output_type": "execute_result"
    }
   ],
   "source": [
    "# Answer: groupby 'genre' and 'duration'.mean()\n",
    "movies.groupby('genre')['duration'].mean()"
   ]
  },
  {
   "cell_type": "code",
   "execution_count": 27,
   "metadata": {},
   "outputs": [
    {
     "data": {
      "text/plain": [
       "<matplotlib.axes._subplots.AxesSubplot at 0x207b6917198>"
      ]
     },
     "execution_count": 27,
     "metadata": {},
     "output_type": "execute_result"
    },
    {
     "data": {
      "image/png": "[encoded data removed]",
      "text/plain": [
       "<matplotlib.figure.Figure at 0x207b7ccf0b8>"
      ]
     },
     "metadata": {},
     "output_type": "display_data"
    }
   ],
   "source": [
    "# subplots to show the duration per movie visually on a boxplot - using .pivot_table() method\n",
    "movies_pivot = movies.pivot_table(index='star_rating', columns='genre', values='duration')\n",
    "movies_pivot.plot(kind='box', figsize=(16,4))"
   ]
  },
  {
   "cell_type": "markdown",
   "metadata": {},
   "source": [
    "## Advanced level"
   ]
  },
  {
   "cell_type": "markdown",
   "metadata": {},
   "source": [
    "#### Visualize the relationship between content rating and duration."
   ]
  },
  {
   "cell_type": "code",
   "execution_count": 28,
   "metadata": {},
   "outputs": [
    {
     "data": {
      "text/plain": [
       "0    160\n",
       "1     33\n",
       "2    125\n",
       "3    189\n",
       "4    460\n",
       "5     12\n",
       "Name: content_rating_num, dtype: int64"
      ]
     },
     "execution_count": 28,
     "metadata": {},
     "output_type": "execute_result"
    }
   ],
   "source": [
    "# Answer: scatter plot x=duration, y = 'content rating'. Which requires both to be numeric\n",
    "# Step 1: attach numbers to each rating with dictionary in new df [R, PG-13,PG, G, NC-17, UNRATED]\n",
    "movies.loc[:,'content_rating'].value_counts()\n",
    "movies.loc[:,'content_rating_num'] = movies.loc[:,'content_rating'].map({'UNRATED': 0, 'G': 1, 'PG': 2,\n",
    "                                                                        'PG-13': 3, 'R': 4, 'NC-17': 5})\n",
    "movies.loc[:,'content_rating_num'].value_counts().sort_index()"
   ]
  },
  {
   "cell_type": "code",
   "execution_count": 29,
   "metadata": {},
   "outputs": [
    {
     "data": {
      "image/png": "[encoded data removed]",
      "text/plain": [
       "<matplotlib.figure.Figure at 0x207b7cae7f0>"
      ]
     },
     "metadata": {},
     "output_type": "display_data"
    }
   ],
   "source": [
    "# Step 2: display as a scatter plot, if it recognizes the new values as numeric\n",
    "movies.plot(kind='scatter', x='content_rating_num', y='duration');"
   ]
  },
  {
   "cell_type": "code",
   "execution_count": 30,
   "metadata": {},
   "outputs": [
    {
     "data": {
      "image/png": "[encoded data removed]",
      "text/plain": [
       "<matplotlib.figure.Figure at 0x207b7ef4eb8>"
      ]
     },
     "metadata": {},
     "output_type": "display_data"
    }
   ],
   "source": [
    "# Alternative.\n",
    "# to show the duration per movie visually on a boxplot per content_rating - using .pivot_table() method, again\n",
    "movies_pivot2 = movies.pivot_table(index='star_rating', columns='content_rating', values='duration')\n",
    "movies_pivot2.plot(kind='box', figsize=(16,4));"
   ]
  },
  {
   "cell_type": "markdown",
   "metadata": {},
   "source": [
    "#### Determine the top rated movie (by star rating) for each genre."
   ]
  },
  {
   "cell_type": "code",
   "execution_count": 31,
   "metadata": {},
   "outputs": [
    {
     "data": {
      "text/html": [
       "<div>\n",
       "<style>\n",
       "    .dataframe thead tr:only-child th {\n",
       "        text-align: right;\n",
       "    }\n",
       "\n",
       "    .dataframe thead th {\n",
       "        text-align: left;\n",
       "    }\n",
       "\n",
       "    .dataframe tbody tr th {\n",
       "        vertical-align: top;\n",
       "    }\n",
       "</style>\n",
       "<table border=\"1\" class=\"dataframe\">\n",
       "  <thead>\n",
       "    <tr style=\"text-align: right;\">\n",
       "      <th></th>\n",
       "      <th>star_rating</th>\n",
       "      <th>title</th>\n",
       "    </tr>\n",
       "    <tr>\n",
       "      <th>genre</th>\n",
       "      <th></th>\n",
       "      <th></th>\n",
       "    </tr>\n",
       "  </thead>\n",
       "  <tbody>\n",
       "    <tr>\n",
       "      <th>Action</th>\n",
       "      <td>9.0</td>\n",
       "      <td>Yojimbo</td>\n",
       "    </tr>\n",
       "    <tr>\n",
       "      <th>Adventure</th>\n",
       "      <td>8.9</td>\n",
       "      <td>True Grit</td>\n",
       "    </tr>\n",
       "    <tr>\n",
       "      <th>Animation</th>\n",
       "      <td>8.6</td>\n",
       "      <td>Wreck-It Ralph</td>\n",
       "    </tr>\n",
       "    <tr>\n",
       "      <th>Biography</th>\n",
       "      <td>8.9</td>\n",
       "      <td>Walk the Line</td>\n",
       "    </tr>\n",
       "    <tr>\n",
       "      <th>Comedy</th>\n",
       "      <td>8.6</td>\n",
       "      <td>Zombieland</td>\n",
       "    </tr>\n",
       "    <tr>\n",
       "      <th>Crime</th>\n",
       "      <td>9.3</td>\n",
       "      <td>Zodiac</td>\n",
       "    </tr>\n",
       "    <tr>\n",
       "      <th>Drama</th>\n",
       "      <td>8.9</td>\n",
       "      <td>Zulu</td>\n",
       "    </tr>\n",
       "    <tr>\n",
       "      <th>Family</th>\n",
       "      <td>7.9</td>\n",
       "      <td>Willy Wonka &amp; the Chocolate Factory</td>\n",
       "    </tr>\n",
       "    <tr>\n",
       "      <th>Fantasy</th>\n",
       "      <td>7.7</td>\n",
       "      <td>The City of Lost Children</td>\n",
       "    </tr>\n",
       "    <tr>\n",
       "      <th>Film-Noir</th>\n",
       "      <td>8.3</td>\n",
       "      <td>The Third Man</td>\n",
       "    </tr>\n",
       "    <tr>\n",
       "      <th>History</th>\n",
       "      <td>8.0</td>\n",
       "      <td>Battleship Potemkin</td>\n",
       "    </tr>\n",
       "    <tr>\n",
       "      <th>Horror</th>\n",
       "      <td>8.6</td>\n",
       "      <td>[Rec]</td>\n",
       "    </tr>\n",
       "    <tr>\n",
       "      <th>Mystery</th>\n",
       "      <td>8.6</td>\n",
       "      <td>Vertigo</td>\n",
       "    </tr>\n",
       "    <tr>\n",
       "      <th>Sci-Fi</th>\n",
       "      <td>8.2</td>\n",
       "      <td>The Day the Earth Stood Still</td>\n",
       "    </tr>\n",
       "    <tr>\n",
       "      <th>Thriller</th>\n",
       "      <td>8.0</td>\n",
       "      <td>The Man Who Knew Too Much</td>\n",
       "    </tr>\n",
       "    <tr>\n",
       "      <th>Western</th>\n",
       "      <td>8.9</td>\n",
       "      <td>Unforgiven</td>\n",
       "    </tr>\n",
       "  </tbody>\n",
       "</table>\n",
       "</div>"
      ],
      "text/plain": [
       "           star_rating                                title\n",
       "genre                                                      \n",
       "Action             9.0                              Yojimbo\n",
       "Adventure          8.9                            True Grit\n",
       "Animation          8.6                       Wreck-It Ralph\n",
       "Biography          8.9                        Walk the Line\n",
       "Comedy             8.6                           Zombieland\n",
       "Crime              9.3                               Zodiac\n",
       "Drama              8.9                                 Zulu\n",
       "Family             7.9  Willy Wonka & the Chocolate Factory\n",
       "Fantasy            7.7            The City of Lost Children\n",
       "Film-Noir          8.3                        The Third Man\n",
       "History            8.0                  Battleship Potemkin\n",
       "Horror             8.6                                [Rec]\n",
       "Mystery            8.6                              Vertigo\n",
       "Sci-Fi             8.2        The Day the Earth Stood Still\n",
       "Thriller           8.0            The Man Who Knew Too Much\n",
       "Western            8.9                           Unforgiven"
      ]
     },
     "execution_count": 31,
     "metadata": {},
     "output_type": "execute_result"
    }
   ],
   "source": [
    "# Answer: groupby 'genre' and 'star_rating' and 'title'. max() to generate a table with the max-rating per title\n",
    "movies.groupby('genre')['star_rating','title'].max()"
   ]
  },
  {
   "cell_type": "code",
   "execution_count": 32,
   "metadata": {},
   "outputs": [
    {
     "data": {
      "image/png": "[encoded data removed]",
      "text/plain": [
       "<matplotlib.figure.Figure at 0x207b8002c50>"
      ]
     },
     "metadata": {},
     "output_type": "display_data"
    }
   ],
   "source": [
    "# Answer: visualization of titles with top ratings in their respective categories\n",
    "movies.groupby('genre')['star_rating','title'].max().plot(kind='bar', color='darkgreen', x='title', y='star_rating',\n",
    "                                                         figsize=(12,4));"
   ]
  },
  {
   "cell_type": "markdown",
   "metadata": {},
   "source": [
    "#### Check if there are multiple movies with the same title, and if so, determine if they are actually duplicates."
   ]
  },
  {
   "cell_type": "code",
   "execution_count": 33,
   "metadata": {},
   "outputs": [
    {
     "name": "stdout",
     "output_type": "stream",
     "text": [
      "['The Girl with the Dragon Tattoo', 'True Grit', 'Les Miserables', 'Dracula']\n"
     ]
    }
   ],
   "source": [
    "# Answer: sort titles into two lists - one that contains items that were seen at least twice and unique values\n",
    "# this shows four movie titles (True Grit, Dracula, Les Miserables, The Girl with the Dragon Tattoo)\n",
    "def find_duplicates(seq):\n",
    "    already_seen = set()\n",
    "    seen_once = already_seen.add  # all titles get into seen_once unless they are already in this list\n",
    "    duplicates = set(x for x in seq if x in already_seen or seen_once(x)) # turning the set into a list\n",
    "    return list(duplicates)\n",
    "\n",
    "found_duplicates = find_duplicates(movies.loc[:,'title'])\n",
    "print(found_duplicates)"
   ]
  },
  {
   "cell_type": "code",
   "execution_count": 34,
   "metadata": {
    "scrolled": true
   },
   "outputs": [
    {
     "data": {
      "text/html": [
       "<div>\n",
       "<style>\n",
       "    .dataframe thead tr:only-child th {\n",
       "        text-align: right;\n",
       "    }\n",
       "\n",
       "    .dataframe thead th {\n",
       "        text-align: left;\n",
       "    }\n",
       "\n",
       "    .dataframe tbody tr th {\n",
       "        vertical-align: top;\n",
       "    }\n",
       "</style>\n",
       "<table border=\"1\" class=\"dataframe\">\n",
       "  <thead>\n",
       "    <tr style=\"text-align: right;\">\n",
       "      <th></th>\n",
       "      <th>star_rating</th>\n",
       "      <th>title</th>\n",
       "      <th>content_rating</th>\n",
       "      <th>genre</th>\n",
       "      <th>duration</th>\n",
       "      <th>actors_list</th>\n",
       "      <th>content_rating_num</th>\n",
       "    </tr>\n",
       "  </thead>\n",
       "  <tbody>\n",
       "    <tr>\n",
       "      <th>703</th>\n",
       "      <td>7.6</td>\n",
       "      <td>Dracula</td>\n",
       "      <td>UNRATED</td>\n",
       "      <td>Horror</td>\n",
       "      <td>85</td>\n",
       "      <td>[u'Bela Lugosi', u'Helen Chandler', u'David Ma...</td>\n",
       "      <td>0</td>\n",
       "    </tr>\n",
       "    <tr>\n",
       "      <th>905</th>\n",
       "      <td>7.5</td>\n",
       "      <td>Dracula</td>\n",
       "      <td>R</td>\n",
       "      <td>Horror</td>\n",
       "      <td>128</td>\n",
       "      <td>[u'Gary Oldman', u'Winona Ryder', u'Anthony Ho...</td>\n",
       "      <td>4</td>\n",
       "    </tr>\n",
       "    <tr>\n",
       "      <th>678</th>\n",
       "      <td>7.7</td>\n",
       "      <td>Les Miserables</td>\n",
       "      <td>PG-13</td>\n",
       "      <td>Drama</td>\n",
       "      <td>158</td>\n",
       "      <td>[u'Hugh Jackman', u'Russell Crowe', u'Anne Hat...</td>\n",
       "      <td>3</td>\n",
       "    </tr>\n",
       "    <tr>\n",
       "      <th>924</th>\n",
       "      <td>7.5</td>\n",
       "      <td>Les Miserables</td>\n",
       "      <td>PG-13</td>\n",
       "      <td>Crime</td>\n",
       "      <td>134</td>\n",
       "      <td>[u'Liam Neeson', u'Geoffrey Rush', u'Uma Thurm...</td>\n",
       "      <td>3</td>\n",
       "    </tr>\n",
       "    <tr>\n",
       "      <th>466</th>\n",
       "      <td>7.9</td>\n",
       "      <td>The Girl with the Dragon Tattoo</td>\n",
       "      <td>R</td>\n",
       "      <td>Crime</td>\n",
       "      <td>158</td>\n",
       "      <td>[u'Daniel Craig', u'Rooney Mara', u'Christophe...</td>\n",
       "      <td>4</td>\n",
       "    </tr>\n",
       "    <tr>\n",
       "      <th>482</th>\n",
       "      <td>7.8</td>\n",
       "      <td>The Girl with the Dragon Tattoo</td>\n",
       "      <td>R</td>\n",
       "      <td>Crime</td>\n",
       "      <td>152</td>\n",
       "      <td>[u'Michael Nyqvist', u'Noomi Rapace', u'Ewa Fr...</td>\n",
       "      <td>4</td>\n",
       "    </tr>\n",
       "    <tr>\n",
       "      <th>662</th>\n",
       "      <td>7.7</td>\n",
       "      <td>True Grit</td>\n",
       "      <td>PG-13</td>\n",
       "      <td>Adventure</td>\n",
       "      <td>110</td>\n",
       "      <td>[u'Jeff Bridges', u'Matt Damon', u'Hailee Stei...</td>\n",
       "      <td>3</td>\n",
       "    </tr>\n",
       "    <tr>\n",
       "      <th>936</th>\n",
       "      <td>7.4</td>\n",
       "      <td>True Grit</td>\n",
       "      <td>G</td>\n",
       "      <td>Adventure</td>\n",
       "      <td>128</td>\n",
       "      <td>[u'John Wayne', u'Kim Darby', u'Glen Campbell']</td>\n",
       "      <td>1</td>\n",
       "    </tr>\n",
       "  </tbody>\n",
       "</table>\n",
       "</div>"
      ],
      "text/plain": [
       "     star_rating                            title content_rating      genre  \\\n",
       "703          7.6                          Dracula        UNRATED     Horror   \n",
       "905          7.5                          Dracula              R     Horror   \n",
       "678          7.7                   Les Miserables          PG-13      Drama   \n",
       "924          7.5                   Les Miserables          PG-13      Crime   \n",
       "466          7.9  The Girl with the Dragon Tattoo              R      Crime   \n",
       "482          7.8  The Girl with the Dragon Tattoo              R      Crime   \n",
       "662          7.7                        True Grit          PG-13  Adventure   \n",
       "936          7.4                        True Grit              G  Adventure   \n",
       "\n",
       "     duration                                        actors_list  \\\n",
       "703        85  [u'Bela Lugosi', u'Helen Chandler', u'David Ma...   \n",
       "905       128  [u'Gary Oldman', u'Winona Ryder', u'Anthony Ho...   \n",
       "678       158  [u'Hugh Jackman', u'Russell Crowe', u'Anne Hat...   \n",
       "924       134  [u'Liam Neeson', u'Geoffrey Rush', u'Uma Thurm...   \n",
       "466       158  [u'Daniel Craig', u'Rooney Mara', u'Christophe...   \n",
       "482       152  [u'Michael Nyqvist', u'Noomi Rapace', u'Ewa Fr...   \n",
       "662       110  [u'Jeff Bridges', u'Matt Damon', u'Hailee Stei...   \n",
       "936       128    [u'John Wayne', u'Kim Darby', u'Glen Campbell']   \n",
       "\n",
       "     content_rating_num  \n",
       "703                   0  \n",
       "905                   4  \n",
       "678                   3  \n",
       "924                   3  \n",
       "466                   4  \n",
       "482                   4  \n",
       "662                   3  \n",
       "936                   1  "
      ]
     },
     "execution_count": 34,
     "metadata": {},
     "output_type": "execute_result"
    }
   ],
   "source": [
    "# checking whether they are true duplicates are maybe versions of the same movie from different years and with different actors\n",
    "dupes = movies.loc[:,'title'].apply(lambda x: x in found_duplicates) # creating new list with the results from list generated\n",
    "movies.loc[dupes,:].sort_values('title')"
   ]
  },
  {
   "cell_type": "markdown",
   "metadata": {},
   "source": [
    "**Answer**: Looking through the titles that were flagged as potential duplicates, it becomes apparent that they are not truly duplicates. They all have different actors and durations."
   ]
  },
  {
   "cell_type": "markdown",
   "metadata": {
    "collapsed": true
   },
   "source": [
    "#### Calculate the average star rating for each genre, but only include genres with at least 10 movies\n"
   ]
  },
  {
   "cell_type": "markdown",
   "metadata": {},
   "source": [
    "#### Option 1: manually create a list of relevant genres, then filter using that list"
   ]
  },
  {
   "cell_type": "code",
   "execution_count": 35,
   "metadata": {},
   "outputs": [
    {
     "data": {
      "text/plain": [
       "Drama        278\n",
       "Comedy       156\n",
       "Action       136\n",
       "Crime        124\n",
       "Biography     77\n",
       "Adventure     75\n",
       "Animation     62\n",
       "Horror        29\n",
       "Mystery       16\n",
       "Western        9\n",
       "Sci-Fi         5\n",
       "Thriller       5\n",
       "Film-Noir      3\n",
       "Family         2\n",
       "Fantasy        1\n",
       "History        1\n",
       "Name: genre, dtype: int64"
      ]
     },
     "execution_count": 35,
     "metadata": {},
     "output_type": "execute_result"
    }
   ],
   "source": [
    "# Answer: with simple value_counts() by genre we can see that a few categories have less than 10 movie titles in them\n",
    "# the five that have less than 10 are Western, Sci-Fi, Thriller, Film-Noir, Family, History, and Fantasy\n",
    "movies.loc[:,'genre'].value_counts()"
   ]
  },
  {
   "cell_type": "code",
   "execution_count": 36,
   "metadata": {},
   "outputs": [],
   "source": [
    "# manually creating a list from the information obtained above\n",
    "at_least_10 = ('Drama', 'Comedy','Action','Crime', 'Biography','Adventure','Animation','Horror', 'Mystery')"
   ]
  },
  {
   "cell_type": "code",
   "execution_count": 37,
   "metadata": {},
   "outputs": [
    {
     "data": {
      "text/plain": [
       "genre\n",
       "Action       7.884559\n",
       "Adventure    7.933333\n",
       "Animation    7.914516\n",
       "Biography    7.862338\n",
       "Comedy       7.822436\n",
       "Crime        7.916935\n",
       "Drama        7.902518\n",
       "Horror       7.806897\n",
       "Mystery      7.975000\n",
       "Name: star_rating, dtype: float64"
      ]
     },
     "execution_count": 37,
     "metadata": {},
     "output_type": "execute_result"
    }
   ],
   "source": [
    "movies.loc[movies.loc[:,'genre'].isin(at_least_10)].groupby('genre')['star_rating'].mean()"
   ]
  },
  {
   "cell_type": "markdown",
   "metadata": {},
   "source": [
    "#### Option 2: automatically create a list of relevant genres by saving the value_counts and then filtering"
   ]
  },
  {
   "cell_type": "code",
   "execution_count": 168,
   "metadata": {},
   "outputs": [
    {
     "data": {
      "text/plain": [
       "['Drama',\n",
       " 'Comedy',\n",
       " 'Action',\n",
       " 'Crime',\n",
       " 'Biography',\n",
       " 'Adventure',\n",
       " 'Animation',\n",
       " 'Horror',\n",
       " 'Mystery',\n",
       " 'Western',\n",
       " 'Sci-Fi',\n",
       " 'Thriller',\n",
       " 'Film-Noir',\n",
       " 'Family',\n",
       " 'Fantasy',\n",
       " 'History']"
      ]
     },
     "execution_count": 168,
     "metadata": {},
     "output_type": "execute_result"
    }
   ],
   "source": [
    "# Answer: same as above, except starting off with creating a new list or columns that stores counts > 10\n",
    "l = 10\n",
    "at_least_ten = movies.loc[:,'genre'].value_counts().index.tolist()\n",
    "at_least_ten"
   ]
  },
  {
   "cell_type": "code",
   "execution_count": null,
   "metadata": {
    "collapsed": true
   },
   "outputs": [],
   "source": [
    "# stuck here - how to pass a condition into the value_count and automatically generate the list I typed manually in Option 1?"
   ]
  },
  {
   "cell_type": "code",
   "execution_count": null,
   "metadata": {
    "collapsed": true
   },
   "outputs": [],
   "source": []
  },
  {
   "cell_type": "markdown",
   "metadata": {},
   "source": [
    "#### Option 3: calculate the average star rating for all genres, then filter using a boolean Series"
   ]
  },
  {
   "cell_type": "code",
   "execution_count": 59,
   "metadata": {},
   "outputs": [
    {
     "data": {
      "text/plain": [
       "genre\n",
       "Action       7.884559\n",
       "Adventure    7.933333\n",
       "Animation    7.914516\n",
       "Biography    7.862338\n",
       "Comedy       7.822436\n",
       "Crime        7.916935\n",
       "Drama        7.902518\n",
       "Family       7.850000\n",
       "Fantasy      7.700000\n",
       "Film-Noir    8.033333\n",
       "History      8.000000\n",
       "Horror       7.806897\n",
       "Mystery      7.975000\n",
       "Sci-Fi       7.920000\n",
       "Thriller     7.680000\n",
       "Western      8.255556\n",
       "Name: star_rating, dtype: float64"
      ]
     },
     "execution_count": 59,
     "metadata": {},
     "output_type": "execute_result"
    }
   ],
   "source": [
    "# Average star ratings by genre with groupby and .mean() method\n",
    "df_ratings_genre = movies.groupby('genre')['star_rating'].mean()\n",
    "df_ratings_genre"
   ]
  },
  {
   "cell_type": "code",
   "execution_count": 60,
   "metadata": {},
   "outputs": [
    {
     "data": {
      "text/plain": [
       "Drama         True\n",
       "Comedy        True\n",
       "Action        True\n",
       "Crime         True\n",
       "Biography     True\n",
       "Adventure     True\n",
       "Animation     True\n",
       "Horror        True\n",
       "Mystery       True\n",
       "Western      False\n",
       "Sci-Fi       False\n",
       "Thriller     False\n",
       "Film-Noir    False\n",
       "Family       False\n",
       "Fantasy      False\n",
       "History      False\n",
       "Name: genre, dtype: bool"
      ]
     },
     "execution_count": 60,
     "metadata": {},
     "output_type": "execute_result"
    }
   ],
   "source": [
    "# boolean series gives true or false\n",
    "l = 10\n",
    "mask = movies.loc[:,'genre'].value_counts() > l\n",
    "mask"
   ]
  },
  {
   "cell_type": "code",
   "execution_count": 61,
   "metadata": {},
   "outputs": [
    {
     "data": {
      "text/plain": [
       "genre\n",
       "Action       7.884559\n",
       "Adventure    7.933333\n",
       "Animation    7.914516\n",
       "Biography    7.862338\n",
       "Comedy       7.822436\n",
       "Crime        7.916935\n",
       "Drama        7.902518\n",
       "Horror       7.806897\n",
       "Mystery      7.975000\n",
       "Name: star_rating, dtype: float64"
      ]
     },
     "execution_count": 61,
     "metadata": {},
     "output_type": "execute_result"
    }
   ],
   "source": [
    "# overlay the results of the first calculation with the boolean values from the second.\n",
    "df_ratings_genre[mask]"
   ]
  },
  {
   "cell_type": "markdown",
   "metadata": {},
   "source": [
    "#### Option 4: aggregate by count and mean, then filter using the count"
   ]
  },
  {
   "cell_type": "code",
   "execution_count": 139,
   "metadata": {},
   "outputs": [
    {
     "data": {
      "text/html": [
       "<div>\n",
       "<style>\n",
       "    .dataframe thead tr:only-child th {\n",
       "        text-align: right;\n",
       "    }\n",
       "\n",
       "    .dataframe thead th {\n",
       "        text-align: left;\n",
       "    }\n",
       "\n",
       "    .dataframe tbody tr th {\n",
       "        vertical-align: top;\n",
       "    }\n",
       "</style>\n",
       "<table border=\"1\" class=\"dataframe\">\n",
       "  <thead>\n",
       "    <tr style=\"text-align: right;\">\n",
       "      <th></th>\n",
       "      <th>count</th>\n",
       "      <th>mean</th>\n",
       "    </tr>\n",
       "    <tr>\n",
       "      <th>genre</th>\n",
       "      <th></th>\n",
       "      <th></th>\n",
       "    </tr>\n",
       "  </thead>\n",
       "  <tbody>\n",
       "    <tr>\n",
       "      <th>Drama</th>\n",
       "      <td>278</td>\n",
       "      <td>7.902518</td>\n",
       "    </tr>\n",
       "    <tr>\n",
       "      <th>Comedy</th>\n",
       "      <td>156</td>\n",
       "      <td>7.822436</td>\n",
       "    </tr>\n",
       "    <tr>\n",
       "      <th>Action</th>\n",
       "      <td>136</td>\n",
       "      <td>7.884559</td>\n",
       "    </tr>\n",
       "    <tr>\n",
       "      <th>Crime</th>\n",
       "      <td>124</td>\n",
       "      <td>7.916935</td>\n",
       "    </tr>\n",
       "    <tr>\n",
       "      <th>Biography</th>\n",
       "      <td>77</td>\n",
       "      <td>7.862338</td>\n",
       "    </tr>\n",
       "    <tr>\n",
       "      <th>Adventure</th>\n",
       "      <td>75</td>\n",
       "      <td>7.933333</td>\n",
       "    </tr>\n",
       "    <tr>\n",
       "      <th>Animation</th>\n",
       "      <td>62</td>\n",
       "      <td>7.914516</td>\n",
       "    </tr>\n",
       "    <tr>\n",
       "      <th>Horror</th>\n",
       "      <td>29</td>\n",
       "      <td>7.806897</td>\n",
       "    </tr>\n",
       "    <tr>\n",
       "      <th>Mystery</th>\n",
       "      <td>16</td>\n",
       "      <td>7.975000</td>\n",
       "    </tr>\n",
       "    <tr>\n",
       "      <th>Western</th>\n",
       "      <td>9</td>\n",
       "      <td>8.255556</td>\n",
       "    </tr>\n",
       "    <tr>\n",
       "      <th>Sci-Fi</th>\n",
       "      <td>5</td>\n",
       "      <td>7.920000</td>\n",
       "    </tr>\n",
       "    <tr>\n",
       "      <th>Thriller</th>\n",
       "      <td>5</td>\n",
       "      <td>7.680000</td>\n",
       "    </tr>\n",
       "    <tr>\n",
       "      <th>Film-Noir</th>\n",
       "      <td>3</td>\n",
       "      <td>8.033333</td>\n",
       "    </tr>\n",
       "    <tr>\n",
       "      <th>Family</th>\n",
       "      <td>2</td>\n",
       "      <td>7.850000</td>\n",
       "    </tr>\n",
       "    <tr>\n",
       "      <th>Fantasy</th>\n",
       "      <td>1</td>\n",
       "      <td>7.700000</td>\n",
       "    </tr>\n",
       "    <tr>\n",
       "      <th>History</th>\n",
       "      <td>1</td>\n",
       "      <td>8.000000</td>\n",
       "    </tr>\n",
       "  </tbody>\n",
       "</table>\n",
       "</div>"
      ],
      "text/plain": [
       "           count      mean\n",
       "genre                     \n",
       "Drama        278  7.902518\n",
       "Comedy       156  7.822436\n",
       "Action       136  7.884559\n",
       "Crime        124  7.916935\n",
       "Biography     77  7.862338\n",
       "Adventure     75  7.933333\n",
       "Animation     62  7.914516\n",
       "Horror        29  7.806897\n",
       "Mystery       16  7.975000\n",
       "Western        9  8.255556\n",
       "Sci-Fi         5  7.920000\n",
       "Thriller       5  7.680000\n",
       "Film-Noir      3  8.033333\n",
       "Family         2  7.850000\n",
       "Fantasy        1  7.700000\n",
       "History        1  8.000000"
      ]
     },
     "execution_count": 139,
     "metadata": {},
     "output_type": "execute_result"
    }
   ],
   "source": [
    "# Answer: created a new grouping based on mean and count per genre\n",
    "grouped_by_genre = movies.groupby('genre')['star_rating'].agg(['count', 'mean']).sort_values('count', ascending=False)\n",
    "grouped_by_genre # creates a new dataframe that includes genre, count, mean for the star_rating"
   ]
  },
  {
   "cell_type": "code",
   "execution_count": 158,
   "metadata": {
    "scrolled": true
   },
   "outputs": [
    {
     "data": {
      "text/html": [
       "<div>\n",
       "<style>\n",
       "    .dataframe thead tr:only-child th {\n",
       "        text-align: right;\n",
       "    }\n",
       "\n",
       "    .dataframe thead th {\n",
       "        text-align: left;\n",
       "    }\n",
       "\n",
       "    .dataframe tbody tr th {\n",
       "        vertical-align: top;\n",
       "    }\n",
       "</style>\n",
       "<table border=\"1\" class=\"dataframe\">\n",
       "  <thead>\n",
       "    <tr style=\"text-align: right;\">\n",
       "      <th></th>\n",
       "      <th>count</th>\n",
       "      <th>mean</th>\n",
       "    </tr>\n",
       "    <tr>\n",
       "      <th>genre</th>\n",
       "      <th></th>\n",
       "      <th></th>\n",
       "    </tr>\n",
       "  </thead>\n",
       "  <tbody>\n",
       "    <tr>\n",
       "      <th>Drama</th>\n",
       "      <td>278</td>\n",
       "      <td>7.902518</td>\n",
       "    </tr>\n",
       "    <tr>\n",
       "      <th>Comedy</th>\n",
       "      <td>156</td>\n",
       "      <td>7.822436</td>\n",
       "    </tr>\n",
       "    <tr>\n",
       "      <th>Action</th>\n",
       "      <td>136</td>\n",
       "      <td>7.884559</td>\n",
       "    </tr>\n",
       "    <tr>\n",
       "      <th>Crime</th>\n",
       "      <td>124</td>\n",
       "      <td>7.916935</td>\n",
       "    </tr>\n",
       "    <tr>\n",
       "      <th>Biography</th>\n",
       "      <td>77</td>\n",
       "      <td>7.862338</td>\n",
       "    </tr>\n",
       "    <tr>\n",
       "      <th>Adventure</th>\n",
       "      <td>75</td>\n",
       "      <td>7.933333</td>\n",
       "    </tr>\n",
       "    <tr>\n",
       "      <th>Animation</th>\n",
       "      <td>62</td>\n",
       "      <td>7.914516</td>\n",
       "    </tr>\n",
       "    <tr>\n",
       "      <th>Horror</th>\n",
       "      <td>29</td>\n",
       "      <td>7.806897</td>\n",
       "    </tr>\n",
       "    <tr>\n",
       "      <th>Mystery</th>\n",
       "      <td>16</td>\n",
       "      <td>7.975000</td>\n",
       "    </tr>\n",
       "  </tbody>\n",
       "</table>\n",
       "</div>"
      ],
      "text/plain": [
       "           count      mean\n",
       "genre                     \n",
       "Drama        278  7.902518\n",
       "Comedy       156  7.822436\n",
       "Action       136  7.884559\n",
       "Crime        124  7.916935\n",
       "Biography     77  7.862338\n",
       "Adventure     75  7.933333\n",
       "Animation     62  7.914516\n",
       "Horror        29  7.806897\n",
       "Mystery       16  7.975000"
      ]
     },
     "execution_count": 158,
     "metadata": {},
     "output_type": "execute_result"
    }
   ],
   "source": [
    "# the column header is 'count' which the formula confuses with the mathematical operation\n",
    "# manually dropping the last 7 rows from the new dataframe\n",
    "grouped_by_genre[:-7]"
   ]
  },
  {
   "cell_type": "code",
   "execution_count": 192,
   "metadata": {},
   "outputs": [
    {
     "name": "stdout",
     "output_type": "stream",
     "text": [
      "           genre  star_rating\n",
      "genre                        \n",
      "Action      True     7.884559\n",
      "Adventure   True     7.933333\n",
      "Animation   True     7.914516\n",
      "Biography   True     7.862338\n",
      "Comedy      True     7.822436\n",
      "Crime       True     7.916935\n",
      "Drama       True     7.902518\n",
      "Horror      True     7.806897\n",
      "Mystery     True     7.975000\n",
      "Family     False     7.850000\n",
      "Fantasy    False     7.700000\n",
      "Film-Noir  False     8.033333\n",
      "History    False     8.000000\n",
      "Sci-Fi     False     7.920000\n",
      "Thriller   False     7.680000\n",
      "Western    False     8.255556\n"
     ]
    }
   ],
   "source": [
    "# Alternative method: returns values of 0 or 1 for genre_count (new) with dictionary\n",
    "# Note: dictionaries will be removed from next Python version \n",
    "A = movies.groupby('genre').agg({'genre': lambda group: len(group)>10, \n",
    "                                 'star_rating': 'mean'}).sort_values('genre', ascending=False)\n",
    "print(A)"
   ]
  },
  {
   "cell_type": "markdown",
   "metadata": {},
   "source": [
    "#### Option 5 - [katharina only]: try something different > add column with count_genre and filter based on that to get average star_rating"
   ]
  },
  {
   "cell_type": "code",
   "execution_count": 110,
   "metadata": {},
   "outputs": [
    {
     "data": {
      "text/plain": [
       "genre\n",
       "Action       7.884559\n",
       "Adventure    7.933333\n",
       "Animation    7.914516\n",
       "Biography    7.862338\n",
       "Comedy       7.822436\n",
       "Crime        7.916935\n",
       "Drama        7.902518\n",
       "Horror       7.806897\n",
       "Mystery      7.975000\n",
       "Name: star_rating, dtype: float64"
      ]
     },
     "execution_count": 110,
     "metadata": {},
     "output_type": "execute_result"
    }
   ],
   "source": [
    "# use groupby genre and transform 'count' to add count of occurence for that genre intp each row in which it appears\n",
    "movies['count_genre'] = movies.groupby('genre')['genre'].transform('count')\n",
    "\n",
    "# set minimum threshold back to 10\n",
    "l= 10\n",
    "\n",
    "# filter the dataframe based on the new column created and use .groupby() and .mean() to get average rating per genre \n",
    "count_greater_10 = movies.loc[:,'count_genre'] > l\n",
    "movies.loc[count_greater_10,:].groupby('genre')['star_rating'].mean()"
   ]
  },
  {
   "cell_type": "markdown",
   "metadata": {},
   "source": [
    "## Bonus"
   ]
  },
  {
   "cell_type": "markdown",
   "metadata": {
    "collapsed": true
   },
   "source": [
    "#### Figure out something \"interesting\" using the actors data!"
   ]
  },
  {
   "cell_type": "code",
   "execution_count": 196,
   "metadata": {},
   "outputs": [],
   "source": [
    "# cleaning up. Removing columns I used earlier for other calculations\n",
    "movies.drop(['content_rating_num','count_genre'], axis=1, inplace=True)"
   ]
  },
  {
   "cell_type": "code",
   "execution_count": 209,
   "metadata": {},
   "outputs": [
    {
     "data": {
      "text/plain": [
       "count                                                   979\n",
       "unique                                                  969\n",
       "top       [u'Daniel Radcliffe', u'Emma Watson', u'Rupert...\n",
       "freq                                                      6\n",
       "Name: actors_list, dtype: object"
      ]
     },
     "execution_count": 209,
     "metadata": {},
     "output_type": "execute_result"
    }
   ],
   "source": [
    "movies.loc[:,'actors_list'].describe(include='all')"
   ]
  },
  {
   "cell_type": "markdown",
   "metadata": {},
   "source": [
    "** Suggestion 1 **: There seem to be a few movies (~10 which are not unique) - could filter for those.\n",
    "** Suggestion 2 **: Could turn actors list into an array and search for actor who appeared in most movies - similar to Chipotle exercise"
   ]
  },
  {
   "cell_type": "code",
   "execution_count": 224,
   "metadata": {},
   "outputs": [
    {
     "data": {
      "text/plain": [
       "array([\"[u'Tim Robbins', u'Morgan Freeman', u'Bob Gunton']\",\n",
       "       \"[u'Marlon Brando', u'Al Pacino', u'James Caan']\",\n",
       "       \"[u'Al Pacino', u'Robert De Niro', u'Robert Duvall']\",\n",
       "       \"[u'Christian Bale', u'Heath Ledger', u'Aaron Eckhart']\",\n",
       "       \"[u'John Travolta', u'Uma Thurman', u'Samuel L. Jackson']\",\n",
       "       \"[u'Henry Fonda', u'Lee J. Cobb', u'Martin Balsam']\",\n",
       "       \"[u'Clint Eastwood', u'Eli Wallach', u'Lee Van Cleef']\",\n",
       "       \"[u'Elijah Wood', u'Viggo Mortensen', u'Ian McKellen']\",\n",
       "       \"[u'Liam Neeson', u'Ralph Fiennes', u'Ben Kingsley']\",\n",
       "       \"[u'Brad Pitt', u'Edward Norton', u'Helena Bonham Carter']\",\n",
       "       \"[u'Elijah Wood', u'Ian McKellen', u'Orlando Bloom']\",\n",
       "       \"[u'Leonardo DiCaprio', u'Joseph Gordon-Levitt', u'Ellen Page']\",\n",
       "       \"[u'Mark Hamill', u'Harrison Ford', u'Carrie Fisher']\",\n",
       "       \"[u'Tom Hanks', u'Robin Wright', u'Gary Sinise']\",\n",
       "       \"[u'Elijah Wood', u'Ian McKellen', u'Viggo Mortensen']\",\n",
       "       \"[u'Matthew McConaughey', u'Anne Hathaway', u'Jessica Chastain']\",\n",
       "       \"[u'Jack Nicholson', u'Louise Fletcher', u'Michael Berryman']\",\n",
       "       \"[u'Toshir\\\\xf4 Mifune', u'Takashi Shimura', u'Keiko Tsushima']\",\n",
       "       \"[u'Robert De Niro', u'Ray Liotta', u'Joe Pesci']\",\n",
       "       \"[u'Mark Hamill', u'Harrison Ford', u'Carrie Fisher']\",\n",
       "       \"[u'Keanu Reeves', u'Laurence Fishburne', u'Carrie-Anne Moss']\",\n",
       "       \"[u'Alexandre Rodrigues', u'Matheus Nachtergaele', u'Leandro Firmino']\",\n",
       "       \"[u'James Stewart', u'Donna Reed', u'Lionel Barrymore']\",\n",
       "       \"[u'Kevin Spacey', u'Gabriel Byrne', u'Chazz Palminteri']\",\n",
       "       \"[u'Morgan Freeman', u'Brad Pitt', u'Kevin Spacey']\",\n",
       "       \"[u'Roberto Benigni', u'Nicoletta Braschi', u'Giorgio Cantarini']\",\n",
       "       \"[u'Henry Fonda', u'Charles Bronson', u'Claudia Cardinale']\",\n",
       "       \"[u'Jodie Foster', u'Anthony Hopkins', u'Lawrence A. Bonney']\",\n",
       "       \"[u'Jean Reno', u'Gary Oldman', u'Natalie Portman']\",\n",
       "       \"[u'Charles Chaplin', u'Virginia Cherrill', u'Florence Lee']\",\n",
       "       \"[u'Daveigh Chase', u'Suzanne Pleshette', u'Miyu Irino']\",\n",
       "       \"[u'Fran\\\\xe7ois Cluzet', u'Omar Sy', u'Anne Le Ny']\",\n",
       "       \"[u'Humphrey Bogart', u'Ingrid Bergman', u'Paul Henreid']\",\n",
       "       \"[u'Miles Teller', u'J.K. Simmons', u'Melissa Benoist']\",\n",
       "       '[u\\'Edward Norton\\', u\\'Edward Furlong\\', u\"Beverly D\\'Angelo\"]',\n",
       "       \"[u'Charles Chaplin', u'Paulette Goddard', u'Henry Bergman']\",\n",
       "       \"[u'Tom Hanks', u'Matt Damon', u'Tom Sizemore']\",\n",
       "       \"[u'Harrison Ford', u'Karen Allen', u'Paul Freeman']\",\n",
       "       \"[u'James Stewart', u'Grace Kelly', u'Wendell Corey']\",\n",
       "       \"[u'Anthony Perkins', u'Janet Leigh', u'Vera Miles']\",\n",
       "       \"[u'Tom Hanks', u'Michael Clarke Duncan', u'David Morse']\",\n",
       "       \"[u'William Holden', u'Gloria Swanson', u'Erich von Stroheim']\",\n",
       "       \"[u'Adrien Brody', u'Thomas Kretschmann', u'Frank Finlay']\",\n",
       "       \"[u'Christian Bale', u'Tom Hardy', u'Anne Hathaway']\",\n",
       "       \"[u'Russell Crowe', u'Joaquin Phoenix', u'Connie Nielsen']\",\n",
       "       \"[u'Arnold Schwarzenegger', u'Linda Hamilton', u'Edward Furlong']\",\n",
       "       \"[u'Guy Pearce', u'Carrie-Anne Moss', u'Joe Pantoliano']\",\n",
       "       \"[u'Darsheel Safary', u'Aamir Khan', u'Tanay Chheda']\",\n",
       "       \"[u'Peter Sellers', u'George C. Scott', u'Sterling Hayden']\",\n",
       "       \"[u'Leonardo DiCaprio', u'Matt Damon', u'Jack Nicholson']\",\n",
       "       \"[u'Philippe Noiret', u'Enzo Cannavale', u'Antonella Attili']\",\n",
       "       \"[u'Martin Sheen', u'Marlon Brando', u'Robert Duvall']\",\n",
       "       \"[u'Charles Chaplin', u'Paulette Goddard', u'Jack Oakie']\",\n",
       "       \"[u'Christian Bale', u'Hugh Jackman', u'Scarlett Johansson']\",\n",
       "       \"[u'Michael J. Fox', u'Christopher Lloyd', u'Lea Thompson']\",\n",
       "       \"[u'Matthew Broderick', u'Jeremy Irons', u'James Earl Jones']\",\n",
       "       \"[u'Ulrich M\\\\xfche', u'Martina Gedeck', u'Sebastian Koch']\",\n",
       "       \"[u'Sigourney Weaver', u'Tom Skerritt', u'John Hurt']\",\n",
       "       \"[u'Kirk Douglas', u'Ralph Meeker', u'Adolphe Menjou']\",\n",
       "       \"[u'Jamie Foxx', u'Christoph Waltz', u'Leonardo DiCaprio']\",\n",
       "       \"[u'Aamir Khan', u'Madhavan', u'Mona Singh']\",\n",
       "       \"[u'Tsutomu Tatsumi', u'Ayano Shiraishi', u'Akemi Yamaguchi']\",\n",
       "       \"[u'Jack Nicholson', u'Shelley Duvall', u'Danny Lloyd']\",\n",
       "       \"[u'Peter Lorre', u'Ellen Widmann', u'Inge Landgut']\",\n",
       "       \"[u'Ben Burtt', u'Elissa Knight', u'Jeff Garlin']\",\n",
       "       \"[u'Tyrone Power', u'Marlene Dietrich', u'Charles Laughton']\",\n",
       "       \"[u'Sunil Dutt', u'Sanjay Dutt', u'Arshad Warsi']\",\n",
       "       \"[u'Kevin Spacey', u'Annette Bening', u'Thora Birch']\",\n",
       "       \"[u'J\\\\xfcrgen Prochnow', u'Herbert Gr\\\\xf6nemeyer', u'Klaus Wennemann']\",\n",
       "       \"[u'Y\\\\xf4ji Matsuda', u'Yuriko Ishida', u'Y\\\\xfbko Tanaka']\",\n",
       "       \"[u'Audrey Tautou', u'Mathieu Kassovitz', u'Rufus']\",\n",
       "       \"[u'Cary Grant', u'Eva Marie Saint', u'James Mason']\",\n",
       "       \"[u'Aamir Khan', u'Soha Ali Khan', u'Siddharth']\",\n",
       "       \"[u'Peyman Moaadi', u'Leila Hatami', u'Sareh Bayat']\",\n",
       "       \"[u'Orson Welles', u'Joseph Cotten', u'Dorothy Comingore']\",\n",
       "       \"[u'Sigourney Weaver', u'Michael Biehn', u'Carrie Henn']\",\n",
       "       \"[u'James Stewart', u'Kim Novak', u'Barbara Bel Geddes']\",\n",
       "       \"[u'Min-sik Choi', u'Ji-tae Yu', u'Hye-jeong Kang']\",\n",
       "       \"[u'Robert De Niro', u'James Woods', u'Elizabeth McGovern']\",\n",
       "       \"[u'Fred MacMurray', u'Barbara Stanwyck', u'Edward G. Robinson']\",\n",
       "       \"[u'Mark Hamill', u'Harrison Ford', u'Carrie Fisher']\",\n",
       "       \"[u'Tom Hanks', u'Tim Allen', u'Joan Cusack']\",\n",
       "       \"[u'Mel Gibson', u'Sophie Marceau', u'Patrick McGoohan']\",\n",
       "       \"[u'Gregory Peck', u'John Megna', u'Frank Overton']\",\n",
       "       \"[u'Ellen Burstyn', u'Jared Leto', u'Jennifer Connelly']\",\n",
       "       '[u\"Peter O\\'Toole\", u\\'Alec Guinness\\', u\\'Anthony Quinn\\']',\n",
       "       \"[u'Malcolm McDowell', u'Patrick Magee', u'Michael Bates']\",\n",
       "       \"[u'Lamberto Maggiorani', u'Enzo Staiola', u'Lianella Carell']\",\n",
       "       \"[u'Charles Chaplin', u'Edna Purviance', u'Jackie Coogan']\",\n",
       "       \"[u'Shah Rukh Khan', u'Gayatri Joshi', u'Kishori Balal']\",\n",
       "       \"[u'Harvey Keitel', u'Tim Roth', u'Michael Madsen']\",\n",
       "       \"[u'Jim Carrey', u'Kate Winslet', u'Tom Wilkinson']\",\n",
       "       \"[u'Robert De Niro', u'Jodie Foster', u'Cybill Shepherd']\",\n",
       "       \"[u'Shah Rukh Khan', u'Kajol', u'Amrish Puri']\",\n",
       "       '[u\\'Gene Kelly\\', u\"Donald O\\'Connor\", u\\'Debbie Reynolds\\']',\n",
       "       \"[u'Bette Davis', u'Anne Baxter', u'George Sanders']\",\n",
       "       \"[u'Toshir\\\\xf4 Mifune', u'Eijir\\\\xf4 T\\\\xf4no', u'Tatsuya Nakadai']\",\n",
       "       \"[u'Paul Newman', u'Robert Redford', u'Robert Shaw']\",\n",
       "       \"[u'Toshir\\\\xf4 Mifune', u'Machiko Ky\\\\xf4', u'Masayuki Mori']\",\n",
       "       \"[u'F. Murray Abraham', u'Tom Hulce', u'Elizabeth Berridge']\",\n",
       "       \"[u'Humphrey Bogart', u'Walter Huston', u'Tim Holt']\",\n",
       "       \"[u'Graham Chapman', u'John Cleese', u'Eric Idle']\",\n",
       "       '[u\\'Matthew Modine\\', u\\'R. Lee Ermey\\', u\"Vincent D\\'Onofrio\"]',\n",
       "       \"[u'Jack Lemmon', u'Shirley MacLaine', u'Fred MacMurray']\",\n",
       "       '[u\\'Takashi Shimura\\', u\\'Nobuo Kaneko\\', u\"Shin\\'ichi Himori\"]',\n",
       "       \"[u'Orson Welles', u'Joseph Cotten', u'Alida Valli']\",\n",
       "       \"[u'Jason Statham', u'Brad Pitt', u'Benicio Del Toro']\",\n",
       "       \"[u'Clint Eastwood', u'Lee Van Cleef', u'Gian Maria Volont\\\\xe9']\",\n",
       "       \"[u'Brigitte Helm', u'Alfred Abel', u'Gustav Fr\\\\xf6hlich']\",\n",
       "       \"[u'Aamir Khan', u'Saif Ali Khan', u'Akshaye Khanna']\",\n",
       "       \"[u'Keir Dullea', u'Gary Lockwood', u'William Sylvester']\",\n",
       "       \"[u'Marilyn Monroe', u'Tony Curtis', u'Jack Lemmon']\",\n",
       "       \"[u'Kevin Spacey', u'Russell Crowe', u'Guy Pearce']\",\n",
       "       \"[u'Christian Bale', u'Michael Caine', u'Ken Watanabe']\",\n",
       "       \"[u'Brad Pitt', u'Diane Kruger', u'Eli Roth']\",\n",
       "       \"[u'Al Pacino', u'Michelle Pfeiffer', u'Steven Bauer']\",\n",
       "       \"[u'James Stewart', u'Jean Arthur', u'Claude Rains']\",\n",
       "       \"[u'Tom Hanks', u'Tim Allen', u'Don Rickles']\",\n",
       "       \"[u'Harrison Ford', u'Sean Connery', u'Alison Doody']\",\n",
       "       \"[u'Clint Eastwood', u'Gene Hackman', u'Morgan Freeman']\",\n",
       "       \"[u'Steve McQueen', u'James Garner', u'Richard Attenborough']\",\n",
       "       \"[u'Mads Mikkelsen', u'Thomas Bo Larsen', u'Annika Wedderkopp']\",\n",
       "       \"[u'Marlon Brando', u'Karl Malden', u'Lee J. Cobb']\",\n",
       "       \"[u'Buster Keaton', u'Marion Mack', u'Glen Cavender']\",\n",
       "       \"[u'Robert De Niro', u'Cathy Moriarty', u'Joe Pesci']\",\n",
       "       \"[u'Bruno Ganz', u'Alexandra Maria Lara', u'Ulrich Matthes']\",\n",
       "       \"[u'Edward Asner', u'Jordan Nagai', u'John Ratzenberger']\",\n",
       "       \"[u'Victor Sj\\\\xf6str\\\\xf6m', u'Bibi Andersson', u'Ingrid Thulin']\",\n",
       "       \"[u'Charles Chaplin', u'Mack Swain', u'Tom Murray']\",\n",
       "       \"[u'Tatsuya Nakadai', u'Akira Terao', u'Jinpachi Nezu']\",\n",
       "       \"[u'Jack Nicholson', u'Faye Dunaway', u'John Huston']\",\n",
       "       \"[u'Hitoshi Takagi', u'Noriko Hidaka', u'Chika Sakamoto']\",\n",
       "       \"[u'Spencer Tracy', u'Burt Lancaster', u'Richard Widmark']\",\n",
       "       \"[u'Ranbir Kapoor', u'Priyanka Chopra', u'Ileana']\",\n",
       "       \"[u'Max von Sydow', u'Gunnar Bj\\\\xf6rnstrand', u'Bengt Ekerot']\",\n",
       "       \"[u'Al Pacino', u'Robert De Niro', u'Val Kilmer']\",\n",
       "       \"[u'Ivana Baquero', u'Ariadna Gil', u'Sergi L\\\\xf3pez']\",\n",
       "       \"[u'William Holden', u'Alec Guinness', u'Jack Hawkins']\",\n",
       "       \"[u'Bruce Willis', u'Alan Rickman', u'Bonnie Bedelia']\",\n",
       "       \"[u'Robin Williams', u'Matt Damon', u'Ben Affleck']\",\n",
       "       \"[u'Yves Montand', u'Charles Vanel', u'Peter van Eyck']\",\n",
       "       \"[u'Ricardo Dar\\\\xedn', u'Soledad Villamil', u'Pablo Rago']\",\n",
       "       \"[u'Aamir Khan', u'Gracy Singh', u'Rachel Shelley']\",\n",
       "       \"[u'Leonardo DiCaprio', u'Jonah Hill', u'Margot Robbie']\",\n",
       "       \"[u'Clark Gable', u'Claudette Colbert', u'Walter Connolly']\",\n",
       "       \"[u'Harrison Ford', u'Rutger Hauer', u'Sean Young']\",\n",
       "       \"[u'Tom Hardy', u'Nick Nolte', u'Joel Edgerton']\",\n",
       "       \"[u'Chieko Baish\\\\xf4', u'Takuya Kimura', u'Tatsuya Gash\\\\xfbin']\",\n",
       "       \"[u'Anthony Hopkins', u'John Hurt', u'Anne Bancroft']\",\n",
       "       \"[u'Laurence Olivier', u'Joan Fontaine', u'George Sanders']\",\n",
       "       \"[u'Lubna Azabal', u'M\\\\xe9lissa D\\\\xe9sormeaux-Poulin', u'Maxim Gaudette']\",\n",
       "       \"[u'Jason Flemyng', u'Dexter Fletcher', u'Nick Moran']\",\n",
       "       \"[u'Hugo Weaving', u'Natalie Portman', u'Rupert Graves']\",\n",
       "       \"[u'Jeff Bridges', u'John Goodman', u'Julianne Moore']\",\n",
       "       \"[u'Paul Newman', u'George Kennedy', u'Strother Martin']\",\n",
       "       \"[u'Dar\\\\xedo Grandinetti', u'Mar\\\\xeda Marull', u'M\\\\xf3nica Villa']\",\n",
       "       \"[u'Robert De Niro', u'Sharon Stone', u'Joe Pesci']\",\n",
       "       \"[u'Clark Gable', u'Vivien Leigh', u'Thomas Mitchell']\",\n",
       "       \"[u'Ben Affleck', u'Rosamund Pike', u'Neil Patrick Harris']\",\n",
       "       \"[u'Fredric March', u'Dana Andrews', u'Myrna Loy']\",\n",
       "       \"[u'Jay Baruchel', u'Gerard Butler', u'Christopher Mintz-Plasse']\",\n",
       "       \"[u'Simone Signoret', u'V\\\\xe9ra Clouzot', u'Paul Meurisse']\",\n",
       "       \"[u'Clint Eastwood', u'Bee Vang', u'Christopher Carley']\",\n",
       "       \"[u'Daniel Br\\\\xfchl', u'Chris Hemsworth', u'Olivia Wilde']\",\n",
       "       \"[u'Emile Hirsch', u'Vince Vaughn', u'Catherine Keener']\",\n",
       "       \"[u'Tae-hyun Cha', u'Gianna Jun', u'In-mun Kim']\",\n",
       "       \"[u'Robert De Niro', u'Christopher Walken', u'John Cazale']\",\n",
       "       \"[u'Toni Collette', u'Philip Seymour Hoffman', u'Eric Bana']\",\n",
       "       \"[u'Richard Gere', u'Joan Allen', u'Cary-Hiroyuki Tagawa']\",\n",
       "       \"[u'Humphrey Bogart', u'Mary Astor', u'Gladys George']\",\n",
       "       \"[u'Russell Crowe', u'Ed Harris', u'Jennifer Connelly']\",\n",
       "       \"[u'Ray Milland', u'Grace Kelly', u'Robert Cummings']\",\n",
       "       \"[u'Ewan McGregor', u'Ewen Bremner', u'Jonny Lee Miller']\",\n",
       "       \"[u'Dong-gun Jang', u'Bin Won', u'Eun-ju Lee']\",\n",
       "       \"[u'Bibi Andersson', u'Liv Ullmann', u'Margaretha Krook']\",\n",
       "       \"[u'Charlton Heston', u'Orson Welles', u'Janet Leigh']\",\n",
       "       \"[u'William H. Macy', u'Frances McDormand', u'Steve Buscemi']\",\n",
       "       \"[u'Robert Downey Jr.', u'Chris Evans', u'Scarlett Johansson']\",\n",
       "       \"[u'Jean-Pierre L\\\\xe9aud', u'Albert R\\\\xe9my', u'Claire Maurier']\",\n",
       "       \"[u'Cary Elwes', u'Mandy Patinkin', u'Robin Wright']\",\n",
       "       \"[u'Don Cheadle', u'Sophie Okonedo', u'Joaquin Phoenix']\",\n",
       "       \"[u'Alisa Freyndlikh', u'Aleksandr Kaydanovskiy', u'Anatoliy Solonitsyn']\",\n",
       "       \"[u'Brahim Hadjadj', u'Jean Martin', u'Yacef Saadi']\",\n",
       "       \"[u'Predrag Manojlovic', u'Lazar Ristovski', u'Mirjana Jokovic']\",\n",
       "       \"[u'Bertil Guve', u'Pernilla Allwin', u'Kristina Adolphson']\",\n",
       "       \"[u'Faye Dunaway', u'William Holden', u'Peter Finch']\",\n",
       "       \"[u'Kurt Russell', u'Wilford Brimley', u'Keith David']\",\n",
       "       \"[u'Paul Newman', u'Robert Redford', u'Katharine Ross']\",\n",
       "       \"[u'Henry Fonda', u'Jane Darwell', u'John Carradine']\",\n",
       "       \"[u'Bajram Severdzan', u'Srdjan Todorovic', u'Branka Katic']\",\n",
       "       \"[u'Graham Chapman', u'John Cleese', u'Michael Palin']\",\n",
       "       \"[u'Bruce Willis', u'Haley Joel Osment', u'Toni Collette']\",\n",
       "       \"[u'Albert Brooks', u'Ellen DeGeneres', u'Alexander Gould']\",\n",
       "       \"[u'Sumi Shimamoto', u'Mahito Tsujimura', u'Hisako Ky\\\\xf4da']\",\n",
       "       \"[u'Colin Firth', u'Taron Egerton', u'Samuel L. Jackson']\",\n",
       "       \"[u'Charlie Sheen', u'Tom Berenger', u'Willem Dafoe']\",\n",
       "       \"[u'Chris Pratt', u'Vin Diesel', u'Bradley Cooper']\",\n",
       "       \"[u'Daniel Day-Lewis', u'Pete Postlethwaite', u'Alison Crosbie']\",\n",
       "       \"[u'Uma Thurman', u'David Carradine', u'Daryl Hannah']\",\n",
       "       \"[u'Tommy Lee Jones', u'Javier Bardem', u'Josh Brolin']\",\n",
       "       \"[u'Alain Delon', u'Nathalie Delon', u'Fran\\\\xe7ois P\\\\xe9rier']\",\n",
       "       \"[u'Chiwetel Ejiofor', u'Michael Kenneth Williams', u'Michael Fassbender']\",\n",
       "       \"[u'Tim Roth', u'Pruitt Taylor Vince', u'Bill Nunn']\",\n",
       "       \"[u'Marcello Mastroianni', u'Anouk Aim\\\\xe9e', u'Claudia Cardinale']\",\n",
       "       \"[u'Charlton Heston', u'Jack Hawkins', u'Stephen Boyd']\",\n",
       "       \"[u'Emilio Echevarr\\\\xeda', u'Gael Garc\\\\xeda Bernal', u'Goya Toledo']\",\n",
       "       \"[u'Wil Wheaton', u'River Phoenix', u'Corey Feldman']\",\n",
       "       \"[u'Bette Davis', u'Joan Crawford', u'Victor Buono']\",\n",
       "       \"[u'Woody Allen', u'Diane Keaton', u'Tony Roberts']\",\n",
       "       \"[u'Benedict Cumberbatch', u'Keira Knightley', u'Matthew Goode']\",\n",
       "       \"[u'Gene Tierney', u'Dana Andrews', u'Clifton Webb']\",\n",
       "       \"[u'Masahiro Motoki', u'Ry\\\\xf4ko Hirosue', u'Tsutomu Yamazaki']\",\n",
       "       \"[u'Andy Lau', u'Tony Chiu Wai Leung', u'Anthony Chau-Sang Wong']\",\n",
       "       \"[u'Daniel Day-Lewis', u'Paul Dano', u'Ciar\\\\xe1n Hinds']\",\n",
       "       \"[u'Ralph Fiennes', u'F. Murray Abraham', u'Mathieu Amalric']\",\n",
       "       \"[u'Anthony Quinn', u'Giulietta Masina', u'Richard Basehart']\",\n",
       "       \"[u'Mickey Rourke', u'Clive Owen', u'Bruce Willis']\",\n",
       "       \"[u'Kang-ho Song', u'Sang-kyung Kim', u'Roe-ha Kim']\",\n",
       "       \"[u'Jake Gyllenhaal', u'Jena Malone', u'Mary McDonnell']\",\n",
       "       \"[u'Elizabeth Taylor', u'Richard Burton', u'George Segal']\",\n",
       "       \"[u'Ben Kingsley', u'John Gielgud', u'Candice Bergen']\",\n",
       "       \"[u'Natalya Bondarchuk', u'Donatas Banionis', u'J\\\\xfcri J\\\\xe4rvet']\",\n",
       "       \"[u'Daniel Radcliffe', u'Emma Watson', u'Rupert Grint']\",\n",
       "       \"[u'Harry Dean Stanton', u'Nastassja Kinski', u'Dean Stockwell']\",\n",
       "       \"[u'Judy Garland', u'Frank Morgan', u'Ray Bolger']\",\n",
       "       \"[u'Seung-yeon Lee', u'Hyun-kyoon Lee', u'Hyuk-ho Kwon']\",\n",
       "       \"[u'Ellar Coltrane', u'Patricia Arquette', u'Ethan Hawke']\",\n",
       "       \"[u'Hilary Swank', u'Clint Eastwood', u'Morgan Freeman']\",\n",
       "       \"[u'Timothy Bottoms', u'Jeff Bridges', u'Cybill Shepherd']\",\n",
       "       \"[u'Farley Granger', u'Robert Walker', u'Ruth Roman']\",\n",
       "       \"[u'Elizabeth Taylor', u'Paul Newman', u'Burl Ives']\",\n",
       "       \"[u'Marcello Mastroianni', u'Anita Ekberg', u'Anouk Aim\\\\xe9e']\",\n",
       "       \"[u'Brigitte Lin', u'Takeshi Kaneshiro', u'Tony Chiu Wai Leung']\",\n",
       "       \"[u'Robert Mitchum', u'Shelley Winters', u'Lillian Gish']\",\n",
       "       \"[u'Vincent Cassel', u'Hubert Kound\\\\xe9', u'Sa\\\\xefd Taghmaoui']\",\n",
       "       \"[u'Donnie Yen', u'Simon Yam', u'Siu-Wong Fan']\",\n",
       "       \"[u'Gary Cooper', u'Grace Kelly', u'Thomas Mitchell']\",\n",
       "       \"[u'Cary Grant', u'Ingrid Bergman', u'Claude Rains']\",\n",
       "       \"[u'Ethan Hawke', u'Julie Delpy', u'Andrea Eckert']\",\n",
       "       \"[u'Wagner Moura', u'Irandhir Santos', u'Andr\\\\xe9 Ramiro']\",\n",
       "       \"[u'Matt Damon', u'\\\\xc9dgar Ram\\\\xedrez', u'Joan Allen']\",\n",
       "       \"[u'Anna Paquin', u'James Van Der Beek', u'Cloris Leachman']\",\n",
       "       \"[u'Ulrich Thomsen', u'Henning Moritzen', u'Thomas Bo Larsen']\",\n",
       "       \"[u'Ki-duk Kim', u'Yeong-su Oh', u'Jong-ho Kim']\",\n",
       "       \"[u'Leonardo DiCaprio', u'Emily Mortimer', u'Mark Ruffalo']\",\n",
       "       '[u\"Ryan O\\'Neal\", u\\'Marisa Berenson\\', u\\'Patrick Magee\\']',\n",
       "       \"[u'William Holden', u'Don Taylor', u'Otto Preminger']\",\n",
       "       \"[u'Ir\\\\xe8ne Jacob', u'Jean-Louis Trintignant', u'Fr\\\\xe9d\\\\xe9rique Feder']\",\n",
       "       \"[u'Patrick Stewart', u'Ian McKellen', u'Hugh Jackman']\",\n",
       "       \"[u'Laurence Olivier', u'Michael Caine', u'Alec Cawthorne']\",\n",
       "       \"[u'Tony Chiu Wai Leung', u'Maggie Cheung', u'Ping Lam Siu']\",\n",
       "       \"[u'James Stewart', u'John Wayne', u'Vera Miles']\",\n",
       "       \"[u'Cary Grant', u'Priscilla Lane', u'Raymond Massey']\",\n",
       "       \"[u'Humphrey Bogart', u'Lauren Bacall', u'John Ridgely']\",\n",
       "       \"[u'Gregory Peck', u'Audrey Hepburn', u'Eddie Albert']\",\n",
       "       \"[u'Cary Grant', u'Katharine Hepburn', u'James Stewart']\",\n",
       "       \"[u'Nozomu Sasaki', u'Mami Koyama', u'Mitsuo Iwata']\",\n",
       "       \"[u'James Stewart', u'Lee Remick', u'Ben Gazzara']\",\n",
       "       \"[u'Werner Krauss', u'Conrad Veidt', u'Friedrich Feher']\",\n",
       "       \"[u'Emma Stone', u'Viola Davis', u'Octavia Spencer']\",\n",
       "       \"[u'Javier Bardem', u'Bel\\\\xe9n Rueda', u'Lola Due\\\\xf1as']\",\n",
       "       \"[u'Wagner Moura', u'Andr\\\\xe9 Ramiro', u'Caio Junqueira']\",\n",
       "       \"[u'Paul Newman', u'Jackie Gleason', u'Piper Laurie']\",\n",
       "       \"[u'John Wayne', u'Dean Martin', u'Ricky Nelson']\",\n",
       "       \"[u'Bruce Willis', u'Madeleine Stowe', u'Brad Pitt']\",\n",
       "       \"[u'James Stewart', u'Josephine Hull', u'Peggy Dow']\",\n",
       "       \"[u'Peter Billingsley', u'Melinda Dillon', u'Darren McGavin']\",\n",
       "       \"[u'Roy Scheider', u'Robert Shaw', u'Richard Dreyfuss']\",\n",
       "       \"[u'Iko Uwais', u'Yayan Ruhian', u'Arifin Putra']\",\n",
       "       \"[u'Sylvester Stallone', u'Talia Shire', u'Burt Young']\",\n",
       "       \"[u'Bruno Ganz', u'Solveig Dommartin', u'Otto Sander']\",\n",
       "       \"[u'Johnny Depp', u'Geoffrey Rush', u'Orlando Bloom']\",\n",
       "       \"[u'Sterling Hayden', u'Coleen Gray', u'Vince Edwards']\",\n",
       "       \"[u'Steve McQueen', u'Dustin Hoffman', u'Victor Jory']\",\n",
       "       \"[u'Colin Firth', u'Geoffrey Rush', u'Helena Bonham Carter']\",\n",
       "       \"[u'Bill Murray', u'Andie MacDowell', u'Chris Elliott']\",\n",
       "       \"[u'Clint Eastwood', u'Gian Maria Volont\\\\xe9', u'Marianne Koch']\",\n",
       "       \"[u'Billy Crystal', u'John Goodman', u'Mary Gibbs']\",\n",
       "       \"[u'Al Pacino', u'John Cazale', u'Penelope Allen']\",\n",
       "       \"[u'Logan Lerman', u'Emma Watson', u'Ezra Miller']\",\n",
       "       \"[u'Gene Wilder', u'Madeline Kahn', u'Marty Feldman']\",\n",
       "       \"[u'Arnold Schwarzenegger', u'Linda Hamilton', u'Michael Biehn']\",\n",
       "       \"[u'Ruth Gordon', u'Bud Cort', u'Vivian Pickles']\",\n",
       "       \"[u'Ethan Hawke', u'Julie Delpy', u'Vernon Dobtcheff']\",\n",
       "       \"[u'Vivien Leigh', u'Marlon Brando', u'Kim Hunter']\",\n",
       "       \"[u'Katharine Hepburn', u'Cary Grant', u'Charles Ruggles']\",\n",
       "       \"[u'Mathieu Amalric', u'Emmanuelle Seigner', u'Marie-Jos\\\\xe9e Croze']\",\n",
       "       \"[u'Cary Grant', u'Rosalind Russell', u'Ralph Bellamy']\",\n",
       "       \"[u'Billy Bob Thornton', u'Dwight Yoakam', u'J.T. Walsh']\",\n",
       "       \"[u'Lew Ayres', u'Louis Wolheim', u'John Wray']\",\n",
       "       \"[u'Hugh Jackman', u'Jake Gyllenhaal', u'Viola Davis']\",\n",
       "       \"[u'Vladimir Garin', u'Ivan Dobronravov', u'Konstantin Lavronenko']\",\n",
       "       \"[u'Frank Sinatra', u'Laurence Harvey', u'Janet Leigh']\",\n",
       "       \"[u'Groucho Marx', u'Harpo Marx', u'Chico Marx']\",\n",
       "       '[u\"Paige O\\'Hara\", u\\'Robby Benson\\', u\\'Richard White\\']',\n",
       "       \"[u'Jim Carrey', u'Ed Harris', u'Laura Linney']\",\n",
       "       \"[u'William Holden', u'Ernest Borgnine', u'Robert Ryan']\",\n",
       "       \"[u'James Stewart', u'John Dall', u'Farley Granger']\",\n",
       "       \"[u'Dustin Hoffman', u'Anne Bancroft', u'Katharine Ross']\",\n",
       "       \"[u'Sam Neill', u'Laura Dern', u'Jeff Goldblum']\",\n",
       "       \"[u'Nicole Kidman', u'Paul Bettany', u'Lauren Bacall']\",\n",
       "       \"[u'Vin Diesel', u'Paul Walker', u'Dwayne Johnson']\",\n",
       "       \"[u'George C. Scott', u'Karl Malden', u'Stephen Young']\",\n",
       "       '[u\\'Danny Elfman\\', u\\'Chris Sarandon\\', u\"Catherine O\\'Hara\"]',\n",
       "       \"[u'Peter Sellers', u'Shirley MacLaine', u'Melvyn Douglas']\",\n",
       "       \"[u'Chiara Mastroianni', u'Catherine Deneuve', u'Gena Rowlands']\",\n",
       "       \"[u'Rob Reiner', u'Michael McKean', u'Christopher Guest']\",\n",
       "       \"[u'James Dean', u'Raymond Massey', u'Julie Harris']\",\n",
       "       \"[u'Bob Geldof', u'Christine Hargreaves', u'James Laurenson']\",\n",
       "       \"[u'Leonardo DiCaprio', u'Djimon Hounsou', u'Jennifer Connelly']\",\n",
       "       \"[u'Ewan McGregor', u'Albert Finney', u'Billy Crudup']\",\n",
       "       \"[u'Dev Patel', u'Freida Pinto', u'Saurabh Shukla']\",\n",
       "       \"[u'Chris Pine', u'Zachary Quinto', u'Simon Pegg']\",\n",
       "       \"[u'Richard Farnsworth', u'Sissy Spacek', u'Jane Galloway Heitz']\",\n",
       "       \"[u'Martin Landau', u'Woody Allen', u'Bill Bernstein']\",\n",
       "       \"[u'Cary Grant', u'Audrey Hepburn', u'Walter Matthau']\",\n",
       "       \"[u'Kevin Costner', u'Gary Oldman', u'Jack Lemmon']\",\n",
       "       \"[u'David Emge', u'Ken Foree', u'Scott H. Reiniger']\",\n",
       "       \"[u'Tom Cruise', u'Jason Robards', u'Julianne Moore']\",\n",
       "       \"[u'Woody Allen', u'Diane Keaton', u'Mariel Hemingway']\",\n",
       "       \"[u'Fernanda Montenegro', u'Vin\\\\xedcius de Oliveira', u'Mar\\\\xedlia P\\\\xeara']\",\n",
       "       \"[u'Jonathan Pryce', u'Kim Greist', u'Robert De Niro']\",\n",
       "       \"[u'Ellen Burstyn', u'Max von Sydow', u'Linda Blair']\",\n",
       "       \"[u'Joaquin Phoenix', u'Amy Adams', u'Scarlett Johansson']\",\n",
       "       \"[u'Bj\\\\xf6rk', u'Catherine Deneuve', u'David Morse']\",\n",
       "       \"[u'Dustin Hoffman', u'Tom Cruise', u'Valeria Golino']\",\n",
       "       \"[u'Rosario Flores', u'Javier C\\\\xe1mara', u'Dar\\\\xedo Grandinetti']\",\n",
       "       \"[u'Errol Flynn', u'Olivia de Havilland', u'Basil Rathbone']\",\n",
       "       \"[u'Klaus Kinski', u'Ruy Guerra', u'Helena Rojo']\",\n",
       "       \"[u'Sidney Poitier', u'Rod Steiger', u'Warren Oates']\",\n",
       "       \"[u'Max Schreck', u'Greta Schr\\\\xf6der', u'Ruth Landshoff']\",\n",
       "       \"[u'Natalie Portman', u'Mila Kunis', u'Vincent Cassel']\",\n",
       "       \"[u'Brad Garrett', u'Lou Romano', u'Patton Oswalt']\",\n",
       "       \"[u'John Wayne', u'Jeffrey Hunter', u'Vera Miles']\",\n",
       "       \"[u'Brie Larson', u'Frantz Turner', u'John Gallagher Jr.']\",\n",
       "       \"[u'Omar Sharif', u'Julie Christie', u'Geraldine Chaplin']\",\n",
       "       \"[u'Suraj Sharma', u'Irrfan Khan', u'Adil Hussain']\",\n",
       "       \"[u'Dustin Hoffman', u'Robert Redford', u'Jack Warden']\",\n",
       "       \"[u'Aleksandr Antonov', u'Vladimir Barsky', u'Grigori Aleksandrov']\",\n",
       "       \"[u'Kevin Costner', u'Mary McDonnell', u'Graham Greene']\",\n",
       "       \"[u'Leonardo DiCaprio', u'Tom Hanks', u'Christopher Walken']\",\n",
       "       \"[u'Russell Crowe', u'Ren\\\\xe9e Zellweger', u'Craig Bierko']\",\n",
       "       \"[u'Robin Williams', u'Robert Sean Leonard', u'Ethan Hawke']\",\n",
       "       \"[u'Atsuko Tanaka', u'Iemasa Kayumi', u'Akio \\\\xd4tsuka']\",\n",
       "       \"[u'Birol \\\\xdcnel', u'Sibel Kekilli', u'G\\\\xfcven Kira\\\\xe7']\",\n",
       "       \"[u'Branko Djuric', u'Rene Bitorajac', u'Filip Sovagovic']\",\n",
       "       \"[u'Matthew McConaughey', u'Jennifer Garner', u'Jared Leto']\",\n",
       "       \"[u'Richard Gere', u'Brooke Adams', u'Sam Shepard']\",\n",
       "       \"[u'Julie Andrews', u'Christopher Plummer', u'Eleanor Parker']\",\n",
       "       \"[u'Sharlto Copley', u'David James', u'Jason Cope']\",\n",
       "       \"[u'Teresa Wright', u'Joseph Cotten', u'Macdonald Carey']\",\n",
       "       \"[u'Colin Clive', u'Mae Clarke', u'Boris Karloff']\",\n",
       "       \"[u'Simon Pegg', u'Nick Frost', u'Kate Ashfield']\",\n",
       "       '[u\\'Duane Jones\\', u\"Judith O\\'Dea\", u\\'Karl Hardman\\']',\n",
       "       \"[u'Uma Thurman', u'David Carradine', u'Michael Madsen']\",\n",
       "       \"[u'Timothy Spall', u'Brenda Blethyn', u'Phyllis Logan']\",\n",
       "       \"[u'Jean Dujardin', u'B\\\\xe9r\\\\xe9nice Bejo', u'John Goodman']\",\n",
       "       \"[u'Scott Weinger', u'Robin Williams', u'Linda Larkin']\",\n",
       "       \"[u'Margaret Lockwood', u'Michael Redgrave', u'Paul Lukas']\",\n",
       "       \"[u'Ian McKellen', u'Martin Freeman', u'Richard Armitage']\",\n",
       "       \"[u'K\\\\xe5re Hedebrant', u'Lina Leandersson', u'Per Ragnar']\",\n",
       "       \"[u'Topol', u'Norma Crane', u'Leonard Frey']\",\n",
       "       \"[u'Martin Freeman', u'Ian McKellen', u'Richard Armitage']\",\n",
       "       \"[u'Juliette Binoche', u'Zbigniew Zamachowski', u'Julie Delpy']\",\n",
       "       \"[u'Mia Farrow', u'John Cassavetes', u'Ruth Gordon']\",\n",
       "       \"[u'Sean Penn', u'Tim Robbins', u'Kevin Bacon']\",\n",
       "       \"[u'Nathan Fillion', u'Gina Torres', u'Chiwetel Ejiofor']\",\n",
       "       \"[u'Magali No\\\\xebl', u'Bruno Zanin', u'Pupella Maggio']\",\n",
       "       \"[u'Charlton Heston', u'Roddy McDowall', u'Kim Hunter']\",\n",
       "       \"[u'Christian Slater', u'Patricia Arquette', u'Dennis Hopper']\",\n",
       "       \"[u'Mia Farrow', u'Dianne Wiest', u'Michael Caine']\",\n",
       "       \"[u'Sam Rockwell', u'Kevin Spacey', u'Dominique McElligott']\",\n",
       "       \"[u'Ethan Hawke', u'Julie Delpy', u'Seamus Davey-Fitzpatrick']\",\n",
       "       \"[u'Shah Rukh Khan', u'Kajol', u'Sheetal Menon']\",\n",
       "       '[u\\'Al Pacino\\', u\"Chris O\\'Donnell\", u\\'James Rebhorn\\']',\n",
       "       \"[u'Naomi Watts', u'Laura Harring', u'Justin Theroux']\",\n",
       "       \"[u'Fay Wray', u'Robert Armstrong', u'Bruce Cabot']\",\n",
       "       \"[u'Shailene Woodley', u'Ansel Elgort', u'Nat Wolff']\",\n",
       "       \"[u'Craig T. Nelson', u'Samuel L. Jackson', u'Holly Hunter']\",\n",
       "       \"[u'Johnny Depp', u'Winona Ryder', u'Dianne Wiest']\",\n",
       "       \"[u'Daniel Craig', u'Eva Green', u'Judi Dench']\",\n",
       "       \"[u'Jay Baruchel', u'Cate Blanchett', u'Gerard Butler']\",\n",
       "       \"[u'Colin Farrell', u'Brendan Gleeson', u'Ciar\\\\xe1n Hinds']\",\n",
       "       \"[u'Kevin Costner', u'Sean Connery', u'Robert De Niro']\",\n",
       "       \"[u'Jean-Paul Belmondo', u'Jean Seberg', u'Daniel Boulanger']\",\n",
       "       \"[u'Kirk Douglas', u'Laurence Olivier', u'Jean Simmons']\",\n",
       "       \"[u'Eli Marienthal', u'Harry Connick Jr.', u'Jennifer Aniston']\",\n",
       "       \"[u'Dustin Hoffman', u'Jon Voight', u'Sylvia Miles']\",\n",
       "       \"[u'John Belushi', u'Dan Aykroyd', u'Cab Calloway']\",\n",
       "       \"[u'Wallace Ford', u'Leila Hyams', u'Olga Baclanova']\",\n",
       "       \"[u'Ken Watanabe', u'Kazunari Ninomiya', u'Tsuyoshi Ihara']\",\n",
       "       \"[u'Tom Cruise', u'Emily Blunt', u'Bill Paxton']\",\n",
       "       \"[u'Matthew Broderick', u'Denzel Washington', u'Cary Elwes']\",\n",
       "       \"[u'Humphrey Bogart', u'Katharine Hepburn', u'Robert Morley']\",\n",
       "       \"[u'Michael Keaton', u'Zach Galifianakis', u'Edward Norton']\",\n",
       "       \"[u'Ryan Potter', u'Scott Adsit', u'Jamie Chung']\",\n",
       "       \"[u'Billy Crudup', u'Patrick Fugit', u'Kate Hudson']\",\n",
       "       \"[u'Gena Rowlands', u'James Garner', u'Rachel McAdams']\",\n",
       "       \"[u'Gene Hackman', u'John Cazale', u'Allen Garfield']\",\n",
       "       \"[u'Emilio Estevez', u'Judd Nelson', u'Molly Ringwald']\",\n",
       "       \"[u'Will Smith', u'Thandie Newton', u'Jaden Smith']\",\n",
       "       \"[u'Yun-Fat Chow', u'Danny Lee', u'Sally Yeh']\",\n",
       "       \"[u'Glen Hansard', u'Mark\\\\xe9ta Irglov\\\\xe1', u'Hugh Walsh']\",\n",
       "       \"[u'Jet Li', u'Tony Chiu Wai Leung', u'Maggie Cheung']\",\n",
       "       \"[u'Anthony Hopkins', u'Emma Thompson', u'John Haycraft']\",\n",
       "       \"[u'Boris Karloff', u'Elsa Lanchester', u'Colin Clive']\",\n",
       "       \"[u'Mickey Rourke', u'Marisa Tomei', u'Evan Rachel Wood']\",\n",
       "       \"[u'Jake Gyllenhaal', u'Rene Russo', u'Bill Paxton']\",\n",
       "       \"[u'Sandra Bullock', u'George Clooney', u'Ed Harris']\",\n",
       "       \"[u'Yun-Fat Chow', u'Tony Chiu Wai Leung', u'Teresa Mo']\",\n",
       "       \"[u'Warren Beatty', u'Faye Dunaway', u'Michael J. Pollard']\",\n",
       "       \"[u'Franka Potente', u'Matt Damon', u'Chris Cooper']\",\n",
       "       \"[u'Humphrey Bogart', u'Edward G. Robinson', u'Lauren Bacall']\",\n",
       "       \"[u'Ricardo Dar\\\\xedn', u'Gast\\\\xf3n Pauls', u'Leticia Br\\\\xe9dice']\",\n",
       "       \"[u'Tom Hanks', u'Tim Allen', u'Joan Cusack']\",\n",
       "       \"[u'Sam Waterston', u'Haing S. Ngor', u'John Malkovich']\",\n",
       "       \"[u'Cecilia Roth', u'Marisa Paredes', u'Candela Pe\\\\xf1a']\",\n",
       "       \"[u'Beau Billingslea', u'Melissa Fahn', u'Nicholas Guest']\",\n",
       "       \"[u'Johnny Depp', u'Martin Landau', u'Sarah Jessica Parker']\",\n",
       "       \"[u'John Wayne', u'Claire Trevor', u'Andy Devine']\",\n",
       "       \"[u'Sean Connery', u'Michael Caine', u'Christopher Plummer']\",\n",
       "       \"[u'Clint Eastwood', u'Sondra Locke', u'Chief Dan George']\",\n",
       "       \"[u'Julianne Moore', u'Clive Owen', u'Chiwetel Ejiofor']\",\n",
       "       \"[u'Russell Crowe', u'Al Pacino', u'Christopher Plummer']\",\n",
       "       \"[u'Sam Shepard', u'Scott Glenn', u'Ed Harris']\",\n",
       "       \"[u'Martin Sheen', u'Sissy Spacek', u'Warren Oates']\",\n",
       "       \"[u'Tahar Rahim', u'Niels Arestrup', u'Adel Bencherif']\",\n",
       "       \"[u'Anamaria Marinca', u'Vlad Ivanov', u'Laura Vasiliu']\",\n",
       "       \"[u'B\\\\xe9r\\\\xe9nice Bejo', u'Tahar Rahim', u'Ali Mosaffa']\",\n",
       "       \"[u'Lee Pace', u'Catinca Untaru', u'Justine Waddell']\",\n",
       "       \"[u'Emily Watson', u'Stellan Skarsg\\\\xe5rd', u'Katrin Cartlidge']\",\n",
       "       \"[u'Jared Leto', u'Sarah Polley', u'Diane Kruger']\",\n",
       "       \"[u'Don Cheadle', u'Sandra Bullock', u'Thandie Newton']\",\n",
       "       \"[u'Sam Worthington', u'Zoe Saldana', u'Sigourney Weaver']\",\n",
       "       \"[u'Robert Downey Jr.', u'Gwyneth Paltrow', u'Terrence Howard']\",\n",
       "       \"[u'Danny Aiello', u'Ossie Davis', u'Ruby Dee']\",\n",
       "       \"[u'Al Pacino', u'Sean Penn', u'Penelope Ann Miller']\",\n",
       "       \"[u'Yun-Fat Chow', u'Michelle Yeoh', u'Ziyi Zhang']\",\n",
       "       \"[u'Oksana Akinshina', u'Artyom Bogucharskiy', u'Pavel Ponomaryov']\",\n",
       "       \"[u'G\\\\xe9rard Jugnot', u'Fran\\\\xe7ois Berl\\\\xe9and', u'Jean-Baptiste Maunier']\",\n",
       "       \"[u'Willem Dafoe', u'Sean Patrick Flanery', u'Norman Reedus']\",\n",
       "       \"[u'Gabriel Byrne', u'Albert Finney', u'John Turturro']\",\n",
       "       \"[u'Joaquin Phoenix', u'Reese Witherspoon', u'Ginnifer Goodwin']\",\n",
       "       \"[u'Mike Myers', u'Eddie Murphy', u'Cameron Diaz']\",\n",
       "       \"[u'Audrey Hepburn', u'Rex Harrison', u'Stanley Holloway']\",\n",
       "       \"[u'Charlton Heston', u'Yul Brynner', u'Anne Baxter']\",\n",
       "       \"[u'Mark Wahlberg', u'Christian Bale', u'Amy Adams']\",\n",
       "       \"[u'Tom Hanks', u'Barkhad Abdi', u'Barkhad Abdirahman']\",\n",
       "       \"[u'Liza Minnelli', u'Michael York', u'Helmut Griem']\",\n",
       "       \"[u'Donald Pleasence', u'Jamie Lee Curtis', u'Tony Moran']\",\n",
       "       \"[u'Daniel Day-Lewis', u'Brenda Fricker', u'Alison Whelan']\",\n",
       "       '[u\\'Edmund Gwenn\\', u\"Maureen O\\'Hara\", u\\'John Payne\\']',\n",
       "       \"[u'Bin Won', u'Sae-ron Kim', u'Tae-hoon Kim']\",\n",
       "       \"[u'Riisa Naka', u'Takuya Ishida', u'Mitsutaka Itakura']\",\n",
       "       \"[u'Steve Carell', u'Toni Collette', u'Greg Kinnear']\",\n",
       "       \"[u'Liam Neeson', u'Maggie Grace', u'Famke Janssen']\",\n",
       "       \"[u'L\\\\xe9a Seydoux', u'Ad\\\\xe8le Exarchopoulos', u'Salim Kechiouche']\",\n",
       "       \"[u'Mark Wahlberg', u'Julianne Moore', u'Burt Reynolds']\",\n",
       "       \"[u'Simon Pegg', u'Nick Frost', u'Martin Freeman']\",\n",
       "       \"[u'Matthew Broderick', u'Alan Ruck', u'Mia Sara']\",\n",
       "       \"[u'Anthony Hopkins', u'Diane Ladd', u'Iain Rea']\",\n",
       "       \"[u'Kirsten Dunst', u'Minami Takayama', u'Rei Sakuma']\",\n",
       "       \"[u'Tom Waits', u'John Lurie', u'Roberto Benigni']\",\n",
       "       \"[u'Al Pacino', u'Jack Lemmon', u'Alec Baldwin']\",\n",
       "       '[u\"Brian O\\'Halloran\", u\\'Jeff Anderson\\', u\\'Marilyn Ghigliotti\\']',\n",
       "       \"[u'Ulrich Thomsen', u'Mads Mikkelsen', u'Nicolas Bro']\",\n",
       "       \"[u'Daniel Craig', u'Rooney Mara', u'Christopher Plummer']\",\n",
       "       \"[u'Robert Donat', u'Madeleine Carroll', u'Lucie Mannheim']\",\n",
       "       \"[u'Henry Thomas', u'Drew Barrymore', u'Peter Coyote']\",\n",
       "       \"[u'Kurt Russell', u'Val Kilmer', u'Sam Elliott']\",\n",
       "       \"[u'Arnold Schwarzenegger', u'Carl Weathers', u'Kevin Peter Hall']\",\n",
       "       \"[u'Mandy Moore', u'Zachary Levi', u'Donna Murphy']\",\n",
       "       \"[u'Spencer Tracy', u'Sidney Poitier', u'Katharine Hepburn']\",\n",
       "       \"[u'Donald Sutherland', u'Mary Tyler Moore', u'Judd Hirsch']\",\n",
       "       \"[u'Geoffrey Rush', u'Jim Sturgess', u'Sylvia Hoeks']\",\n",
       "       \"[u'Bradley Cooper', u'Jennifer Lawrence', u'Robert De Niro']\",\n",
       "       \"[u'Kenneth Branagh', u'Julie Christie', u'Derek Jacobi']\",\n",
       "       \"[u'Jean-Louis Trintignant', u'Emmanuelle Riva', u'Isabelle Huppert']\",\n",
       "       \"[u'Byung-hun Lee', u'Min-sik Choi', u'In-seo Kim']\",\n",
       "       \"[u'Gael Garc\\\\xeda Bernal', u'Rodrigo De la Serna', u'M\\\\xeda Maestro']\",\n",
       "       \"[u'Ron Livingston', u'Jennifer Aniston', u'David Herman']\",\n",
       "       \"[u'Andreas Wilson', u'Henrik Lundstr\\\\xf6m', u'Gustaf Skarsg\\\\xe5rd']\",\n",
       "       \"[u'Michael Nyqvist', u'Noomi Rapace', u'Ewa Fr\\\\xf6ling']\",\n",
       "       \"[u'Richard E. Grant', u'Paul McGann', u'Richard Griffiths']\",\n",
       "       \"[u'Michael Rennie', u'Patricia Neal', u'Hugh Marlowe']\",\n",
       "       \"[u'Carice van Houten', u'Sebastian Koch', u'Thom Hoffman']\",\n",
       "       \"[u'Bruce Campbell', u'Sarah Berry', u'Dan Hicks']\",\n",
       "       \"[u'Hideaki Anno', u'Hidetoshi Nishijima', u'Miori Takimoto']\",\n",
       "       \"[u'Chris Pine', u'Zachary Quinto', u'Zoe Saldana']\",\n",
       "       \"[u'Mich\\\\xe8le Caucheteux', u'Jean-Claude Donda', u'Michel Robin']\",\n",
       "       \"[u'Eduardo Noriega', u'Pen\\\\xe9lope Cruz', u'Chete Lera']\",\n",
       "       \"[u'Yul Brynner', u'Steve McQueen', u'Charles Bronson']\",\n",
       "       \"[u'Ryan Gosling', u'Carey Mulligan', u'Bryan Cranston']\",\n",
       "       \"[u'Gene Hackman', u'Willem Dafoe', u'Frances McDormand']\",\n",
       "       \"[u'Chris Pratt', u'Will Ferrell', u'Elizabeth Banks']\",\n",
       "       \"[u'Edward Fox', u'Terence Alexander', u'Michel Auclair']\",\n",
       "       \"[u'James Caan', u'Kathy Bates', u'Richard Farnsworth']\",\n",
       "       \"[u'Gene Wilder', u'Jack Albertson', u'Peter Ostrum']\",\n",
       "       \"[u'Leopold Stokowski', u'Deems Taylor', u'Corey Burton']\",\n",
       "       \"[u'Ethan Hawke', u'Uma Thurman', u'Jude Law']\",\n",
       "       \"[u'Denzel Washington', u'Russell Crowe', u'Chiwetel Ejiofor']\",\n",
       "       \"[u'Sh\\\\xfbichir\\\\xf4 Moriyama', u'Tokiko Kat\\\\xf4', u'Sanshi Katsura']\",\n",
       "       \"[u'Gene Hackman', u'Roy Scheider', u'Fernando Rey']\",\n",
       "       \"[u'Asa Butterfield', u'David Thewlis', u'Rupert Friend']\",\n",
       "       \"[u'Christian Bale', u'John Malkovich', u'Miranda Richardson']\",\n",
       "       \"[u'Domhnall Gleeson', u'Rachel McAdams', u'Bill Nighy']\",\n",
       "       \"[u'Isabella Rossellini', u'Kyle MacLachlan', u'Dennis Hopper']\",\n",
       "       \"[u'Paddy Considine', u'Samantha Morton', u'Djimon Hounsou']\",\n",
       "       \"[u'Brad Pitt', u'Cate Blanchett', u'Tilda Swinton']\",\n",
       "       \"[u'Daniel Day-Lewis', u'Madeleine Stowe', u'Russell Means']\",\n",
       "       \"[u'Jared Gilman', u'Kara Hayward', u'Bruce Willis']\",\n",
       "       \"[u'James Dean', u'Natalie Wood', u'Sal Mineo']\",\n",
       "       \"[u'George Clooney', u'Meryl Streep', u'Bill Murray']\",\n",
       "       \"[u'Kevin McCarthy', u'Dana Wynter', u'Larry Gates']\",\n",
       "       \"[u'Jake Gyllenhaal', u'Chris Cooper', u'Laura Dern']\",\n",
       "       \"[u'Clint Eastwood', u'Andrew Robinson', u'Harry Guardino']\",\n",
       "       \"[u'Bill Murray', u'Dan Aykroyd', u'Sigourney Weaver']\",\n",
       "       \"[u'Chris Evans', u'Samuel L. Jackson', u'Scarlett Johansson']\",\n",
       "       \"[u'John C. Reilly', u'Jack McBrayer', u'Jane Lynch']\",\n",
       "       \"[u'Zach Galifianakis', u'Bradley Cooper', u'Justin Bartha']\",\n",
       "       \"[u'Michael J. Fox', u'Christopher Lloyd', u'Lea Thompson']\",\n",
       "       \"[u'Catherine Deneuve', u'Jean Sorel', u'Michel Piccoli']\",\n",
       "       \"[u'George Clooney', u'John Turturro', u'Tim Blake Nelson']\",\n",
       "       \"[u'Catherine Deneuve', u'Ian Hendry', u'John Fraser']\",\n",
       "       \"[u'Robert Hays', u'Julie Hagerty', u'Leslie Nielsen']\",\n",
       "       \"[u'Keira Knightley', u'Matthew Macfadyen', u'Brenda Blethyn']\",\n",
       "       \"[u'Stanley Baker', u'Jack Hawkins', u'Ulla Jacobsson']\",\n",
       "       \"[u'Winona Ryder', u'Gena Rowlands', u'Lisanne Falk']\",\n",
       "       \"[u'Burt Lancaster', u'Montgomery Clift', u'Deborah Kerr']\",\n",
       "       \"[u'Gerardo Taracena', u'Raoul Trujillo', u'Dalia Hern\\\\xe1ndez']\",\n",
       "       \"[u'Keira Knightley', u'James McAvoy', u'Brenda Blethyn']\",\n",
       "       \"[u'Lee Marvin', u'Ernest Borgnine', u'Charles Bronson']\",\n",
       "       \"[u'James McAvoy', u'Michael Fassbender', u'Jennifer Lawrence']\",\n",
       "       \"[u'Franka Potente', u'Moritz Bleibtreu', u'Herbert Knaup']\",\n",
       "       \"[u'John Wayne', u'Robert Ryan', u'Richard Burton']\",\n",
       "       \"[u'Woody Allen', u'Mia Farrow', u'Patrick Horgan']\",\n",
       "       '[u\\'John Lone\\', u\\'Joan Chen\\', u\"Peter O\\'Toole\"]',\n",
       "       \"[u'Sean Astin', u'Josh Brolin', u'Jeff Cohen']\",\n",
       "       \"[u'Christian Friedel', u'Ernst Jacobi', u'Leonie Benesch']\",\n",
       "       \"[u'Harrison Ford', u'Tommy Lee Jones', u'Sela Ward']\",\n",
       "       \"[u'Danny Glover', u'Whoopi Goldberg', u'Oprah Winfrey']\",\n",
       "       \"[u'Trey Parker', u'Matt Stone', u'Mary Kay Bergman']\",\n",
       "       \"[u'Zooey Deschanel', u'Joseph Gordon-Levitt', u'Geoffrey Arend']\",\n",
       "       \"[u'Bill Murray', u'Scarlett Johansson', u'Giovanni Ribisi']\",\n",
       "       \"[u'Ben Affleck', u'Bryan Cranston', u'John Goodman']\",\n",
       "       \"[u'Cleavon Little', u'Gene Wilder', u'Slim Pickens']\",\n",
       "       \"[u'Audrey Hepburn', u'George Peppard', u'Patricia Neal']\",\n",
       "       \"[u'Johnny Depp', u'Kate Winslet', u'Julie Christie']\",\n",
       "       \"[u'Moritz Bleibtreu', u'Christian Berkel', u'Oliver Stokowski']\",\n",
       "       \"[u'Josh Hartnett', u'Ben Kingsley', u'Morgan Freeman']\",\n",
       "       \"[u'Eddie Redmayne', u'Felicity Jones', u'Tom Prior']\",\n",
       "       \"[u'Daniel Radcliffe', u'Emma Watson', u'Rupert Grint']\",\n",
       "       \"[u'Stephen Chow', u'Wah Yuen', u'Qiu Yuen']\",\n",
       "       \"[u'John Cusack', u'Cameron Diaz', u'Catherine Keener']\",\n",
       "       \"[u'Jesse Eisenberg', u'Andrew Garfield', u'Justin Timberlake']\",\n",
       "       \"[u'Russell Crowe', u'Christian Bale', u'Ben Foster']\",\n",
       "       \"[u'Sean Connery', u'Christian Slater', u'Helmut Qualtinger']\",\n",
       "       \"[u'Julie Andrews', u'Dick Van Dyke', u'David Tomlinson']\",\n",
       "       \"[u'Michael Douglas', u'Deborah Kara Unger', u'Sean Penn']\",\n",
       "       \"[u'Angelina Jolie', u'Colm Feore', u'Amy Ryan']\",\n",
       "       \"[u'Al Pacino', u'Johnny Depp', u'Michael Madsen']\",\n",
       "       \"[u'Al Pacino', u'John Randolph', u'Jack Kehoe']\",\n",
       "       \"[u'Johnny Depp', u'Leonardo DiCaprio', u'Juliette Lewis']\",\n",
       "       \"[u'Sean Connery', u'Gert Fr\\\\xf6be', u'Honor Blackman']\",\n",
       "       \"[u'Bruce Dern', u'Will Forte', u'June Squibb']\",\n",
       "       \"[u'Tom Guiry', u'Mike Vitar', u'Patrick Renna']\",\n",
       "       \"[u'Cuba Gooding Jr.', u'Laurence Fishburne', u'Hudhail Al-Amir']\",\n",
       "       \"[u'Matt Damon', u'Franka Potente', u'Joan Allen']\",\n",
       "       \"[u'Daniel Craig', u'Javier Bardem', u'Naomie Harris']\",\n",
       "       \"[u'Jamie Foxx', u'Regina King', u'Kerry Washington']\",\n",
       "       \"[u'Gerard Butler', u'Lena Headey', u'David Wenham']\",\n",
       "       \"[u'Robert De Niro', u'Chazz Palminteri', u'Lillo Brancato']\",\n",
       "       \"[u'Rod Taylor', u'Tippi Hedren', u'Suzanne Pleshette']\",\n",
       "       \"[u'Tatsuya Fujiwara', u'Aki Maeda', u'Tar\\\\xf4 Yamamoto']\",\n",
       "       \"[u'Sam Riley', u'Samantha Morton', u'Craig Parkinson']\",\n",
       "       \"[u'Dustin Hoffman', u'Meryl Streep', u'Jane Alexander']\",\n",
       "       \"[u'Jon Voight', u'Burt Reynolds', u'Ned Beatty']\",\n",
       "       \"[u'George Clooney', u'Brad Pitt', u'Julia Roberts']\",\n",
       "       \"[u'Jack Nicholson', u'Helen Hunt', u'Greg Kinnear']\",\n",
       "       \"[u'Robert De Niro', u'Robin Williams', u'Julie Kavner']\",\n",
       "       \"[u'Robert De Niro', u'Jerry Lewis', u'Diahnne Abbott']\",\n",
       "       \"[u'Denzel Washington', u'Christopher Walken', u'Dakota Fanning']\",\n",
       "       \"[u'Humphrey Bogart', u'Audrey Hepburn', u'William Holden']\",\n",
       "       \"[u'Rufus Sewell', u'Kiefer Sutherland', u'Jennifer Connelly']\",\n",
       "       \"[u'Daniel Br\\\\xfchl', u'Katrin Sa\\\\xdf', u'Chulpan Khamatova']\",\n",
       "       \"[u'Denzel Washington', u'Will Patton', u'Wood Harris']\",\n",
       "       \"[u'William Shatner', u'Leonard Nimoy', u'DeForest Kelley']\",\n",
       "       \"[u'Tom Hanks', u'Tyler Hoechlin', u'Rob Maxey']\",\n",
       "       \"[u'Jason Schwartzman', u'Bill Murray', u'Olivia Williams']\",\n",
       "       \"[u'Christian Bale', u'Jennifer Jason Leigh', u'Aitana S\\\\xe1nchez-Gij\\\\xf3n']\",\n",
       "       \"[u'Madeline Carroll', u'Callan McAuliffe', u'Rebecca De Mornay']\",\n",
       "       \"[u'Jim Caviezel', u'Guy Pearce', u'Richard Harris']\",\n",
       "       \"[u'Adrien Brody', u'Christina Hendricks', u'Marcia Gay Harden']\",\n",
       "       \"[u'Guillaume Canet', u'Marion Cotillard', u'Thibault Verhaeghe']\",\n",
       "       \"[u'Johnny Depp', u'Gary Farmer', u'Crispin Glover']\",\n",
       "       \"[u'Mia Farrow', u'Jeff Daniels', u'Danny Aiello']\",\n",
       "       \"[u'Sean Penn', u'Benicio Del Toro', u'Naomi Watts']\",\n",
       "       \"[u'Joseph Gordon-Levitt', u'Seth Rogen', u'Anna Kendrick']\",\n",
       "       \"[u'Aaron Taylor-Johnson', u'Nicolas Cage', u'Chlo\\\\xeb Grace Moretz']\",\n",
       "       \"[u'Marie-Laure Dougnac', u'Dominique Pinon', u'Pascal Benezech']\",\n",
       "       \"[u'John Turturro', u'John Goodman', u'Judy Davis']\",\n",
       "       \"[u'James McAvoy', u'Forest Whitaker', u'Gillian Anderson']\",\n",
       "       \"[u'Nicolas Cage', u'Meryl Streep', u'Chris Cooper']\",\n",
       "       \"[u'Audrey Tautou', u'Gaspard Ulliel', u'Jodie Foster']\",\n",
       "       \"[u'Brady Corbet', u'Joseph Gordon-Levitt', u'Elisabeth Shue']\",\n",
       "       \"[u'Charlie Cox', u'Claire Danes', u'Sienna Miller']\",\n",
       "       \"[u'Josh Hartnett', u'Ewan McGregor', u'Tom Sizemore']\",\n",
       "       \"[u'Megumi Hayashibara', u'T\\\\xf4ru Emori', u'Katsunosuke Hori']\",\n",
       "       \"[u'Johnny Depp', u'Benicio Del Toro', u'Tobey Maguire']\",\n",
       "       \"[u'Frank Langella', u'Michael Sheen', u'Kevin Bacon']\",\n",
       "       \"[u'Bruce Lee', u'John Saxon', u'Jim Kelly']\",\n",
       "       \"[u'Andie MacDowell', u'Julianne Moore', u'Tim Robbins']\",\n",
       "       \"[u'John Lennon', u'Paul McCartney', u'George Harrison']\",\n",
       "       \"[u'Tom Cruise', u'Ken Watanabe', u'Billy Connolly']\",\n",
       "       \"[u'Peter Dinklage', u'Patricia Clarkson', u'Bobby Cannavale']\",\n",
       "       \"[u'Jesse Eisenberg', u'Emma Stone', u'Woody Harrelson']\",\n",
       "       \"[u'Kang-ho Song', u'Ha-kyun Shin', u'Doona Bae']\",\n",
       "       \"[u'Steve Carell', u'Jason Segel', u'Russell Brand']\",\n",
       "       \"[u'Alan Ladd', u'Jean Arthur', u'Van Heflin']\",\n",
       "       \"[u'Walter Pidgeon', u'Anne Francis', u'Leslie Nielsen']\",\n",
       "       \"[u'Leonardo DiCaprio', u'Kate Winslet', u'Billy Zane']\",\n",
       "       \"[u'Morgan Freeman', u'Ed Harris', u'Casey Affleck']\",\n",
       "       \"[u'Thierry Lhermitte', u'Jacques Villeret', u'Francis Huster']\",\n",
       "       \"[u'Gary Oldman', u'Keri Russell', u'Andy Serkis']\",\n",
       "       \"[u'Edward Norton', u'Barry Pepper', u'Philip Seymour Hoffman']\",\n",
       "       \"[u'Cate Blanchett', u'Matt Damon', u'Liam Neeson']\",\n",
       "       \"[u'Geoffrey Rush', u'Armin Mueller-Stahl', u'Justin Braine']\",\n",
       "       \"[u'Quinton Aaron', u'Sandra Bullock', u'Tim McGraw']\",\n",
       "       \"[u'Jake Gyllenhaal', u'Heath Ledger', u'Michelle Williams']\",\n",
       "       \"[u'Tom Hanks', u'Helen Hunt', u'Paul Sanchez']\",\n",
       "       \"[u'Denzel Washington', u'Angela Bassett', u'Delroy Lindo']\",\n",
       "       \"[u'Alexandra Dahlstr\\\\xf6m', u'Rebecka Liljeberg', u'Erica Carlson']\",\n",
       "       \"[u'Andrew Garfield', u'Peter Mullan', u'Shaun Evans']\",\n",
       "       \"[u'Michael Beck', u'James Remar', u'Dorsey Wright']\",\n",
       "       \"[u'Richard Dreyfuss', u'Fran\\\\xe7ois Truffaut', u'Teri Garr']\",\n",
       "       \"[u'Scarlett Johansson', u'Jonathan Rhys Meyers', u'Emily Mortimer']\",\n",
       "       \"[u'Denzel Washington', u'Ethan Hawke', u'Scott Glenn']\",\n",
       "       \"[u'Ashton Kutcher', u'Amy Smart', u'Melora Walters']\",\n",
       "       \"[u'Ron Perlman', u'Daniel Emilfork', u'Judith Vittet']\",\n",
       "       \"[u'Jamie Bell', u'Julie Walters', u'Jean Heywood']\",\n",
       "       \"[u'Hugh Grant', u'Martine McCutcheon', u'Liam Neeson']\",\n",
       "       \"[u'Zero Mostel', u'Gene Wilder', u'Dick Shawn']\",\n",
       "       \"[u'Daniel Radcliffe', u'Emma Watson', u'Rupert Grint']\",\n",
       "       \"[u'Richard Jenkins', u'Haaz Sleiman', u'Danai Gurira']\",\n",
       "       \"[u'Tom Hanks', u'Denzel Washington', u'Roberta Maxwell']\",\n",
       "       \"[u'Emma Thompson', u'Kate Winslet', u'James Fleet']\",\n",
       "       \"[u'Zbigniew Zamachowski', u'Julie Delpy', u'Janusz Gajos']\",\n",
       "       \"[u'Toni Servillo', u'Carlo Verdone', u'Sabrina Ferilli']\",\n",
       "       \"[u'Richard Gere', u'Laura Linney', u'Edward Norton']\",\n",
       "       \"[u'Richard Burton', u'Clint Eastwood', u'Mary Ure']\",\n",
       "       \"[u'Jason London', u'Wiley Wiggins', u'Matthew McConaughey']\",\n",
       "       \"[u'John Getz', u'Frances McDormand', u'Dan Hedaya']\",\n",
       "       \"[u'Thomas Turgoose', u'Stephen Graham', u'Jo Hartley']\",\n",
       "       \"[u'Jet Li', u'Li Sun', u'Yong Dong']\",\n",
       "       \"[u'Glenn Close', u'John Malkovich', u'Michelle Pfeiffer']\",\n",
       "       \"[u'Cary Elwes', u'Leigh Whannell', u'Danny Glover']\",\n",
       "       \"[u'Adriana Caselotti', u'Harry Stockwell', u'Lucille La Verne']\",\n",
       "       \"[u'Dakota Fanning', u'Teri Hatcher', u'John Hodgman']\",\n",
       "       \"[u'Jennifer Lawrence', u'Josh Hutcherson', u'Liam Hemsworth']\",\n",
       "       \"[u'Meryl Streep', u'Kevin Kline', u'Peter MacNicol']\",\n",
       "       \"[u'Marion Cotillard', u'Sylvie Testud', u'Pascal Greggory']\",\n",
       "       \"[u'Hayden Christensen', u'Natalie Portman', u'Ewan McGregor']\",\n",
       "       \"[u'Jeff Bridges', u'Matt Damon', u'Hailee Steinfeld']\",\n",
       "       \"[u'Griffin Dunne', u'Rosanna Arquette', u'Verna Bloom']\",\n",
       "       \"[u'Kristen Bell', u'Idina Menzel', u'Jonathan Groff']\",\n",
       "       \"[u'James Mason', u'Shelley Winters', u'Sue Lyon']\",\n",
       "       \"[u'Naomi Watts', u'Viggo Mortensen', u'Armin Mueller-Stahl']\",\n",
       "       \"[u'Owen Wilson', u'Rachel McAdams', u'Kathy Bates']\",\n",
       "       \"[u'Michael Caine', u'Dave Goelz', u'Steve Whitmire']\",\n",
       "       \"[u'Bob Hoskins', u'Christopher Lloyd', u'Joanna Cassidy']\",\n",
       "       \"[u'Yeong-ae Lee', u'Min-sik Choi', u'Shi-hoo Kim']\",\n",
       "       \"[u'Kurt Russell', u'Rose McGowan', u'Danny Trejo']\",\n",
       "       \"[u'Mikael Persbrandt', u'Trine Dyrholm', u'Markus Rygaard']\",\n",
       "       \"[u'David Hemmings', u'Vanessa Redgrave', u'Sarah Miles']\",\n",
       "       \"[u'Bridgit Mendler', u'Amy Poehler', u'Will Arnett']\",\n",
       "       \"[u'Robert Downey Jr.', u'Val Kilmer', u'Michelle Monaghan']\",\n",
       "       \"[u'Bill Pullman', u'Patricia Arquette', u'John Roselius']\",\n",
       "       \"[u'Jake Gyllenhaal', u'Robert Downey Jr.', u'Mark Ruffalo']\",\n",
       "       \"[u'Hugh Jackman', u'Russell Crowe', u'Anne Hathaway']\",\n",
       "       \"[u'Nicole Kidman', u'Ewan McGregor', u'John Leguizamo']\",\n",
       "       \"[u'Keisha Castle-Hughes', u'Rawiri Paratene', u'Vicky Haughton']\",\n",
       "       \"[u'Jake Gyllenhaal', u'Michael Pe\\\\xf1a', u'Anna Kendrick']\",\n",
       "       \"[u'Judi Dench', u'Steve Coogan', u'Sophie Kennedy Clark']\",\n",
       "       \"[u'Brad Pitt', u'Shia LaBeouf', u'Logan Lerman']\",\n",
       "       \"[u'Jean-Marc Barr', u'Jean Reno', u'Rosanna Arquette']\",\n",
       "       \"[u'Sylvester Stallone', u'Brian Dennehy', u'Richard Crenna']\",\n",
       "       \"[u'Tom Cruise', u'Colin Farrell', u'Samantha Morton']\",\n",
       "       \"[u'Ingrid Bergman', u'Gregory Peck', u'Michael Chekhov']\",\n",
       "       \"[u'Edward Woodward', u'Christopher Lee', u'Diane Cilento']\",\n",
       "       \"[u'Will Smith', u'Rosario Dawson', u'Woody Harrelson']\",\n",
       "       \"[u'Brad Davis', u'Irene Miracle', u'Bo Hopkins']\",\n",
       "       \"[u'Clint Eastwood', u'Telly Savalas', u'Don Rickles']\",\n",
       "       \"[u'Donald Sutherland', u'Elliott Gould', u'Tom Skerritt']\",\n",
       "       \"[u'Tim Robbins', u'Greta Scacchi', u'Fred Ward']\",\n",
       "       \"[u'Michael Douglas', u'Benicio Del Toro', u'Catherine Zeta-Jones']\",\n",
       "       \"[u'Maribel Verd\\\\xfa', u'Gael Garc\\\\xeda Bernal', u'Daniel Gim\\\\xe9nez Cacho']\",\n",
       "       \"[u'Will Ferrell', u'Emma Thompson', u'Dustin Hoffman']\",\n",
       "       \"[u'Denzel Washington', u'Clive Owen', u'Jodie Foster']\",\n",
       "       \"[u'James Franco', u'Amber Tamblyn', u'Kate Mara']\",\n",
       "       \"[u'Bruce Willis', u'Milla Jovovich', u'Gary Oldman']\",\n",
       "       \"[u'Sean Penn', u'Josh Brolin', u'Emile Hirsch']\",\n",
       "       \"[u'David Alan Basche', u'Olivia Thirlby', u'Liza Col\\\\xf3n-Zayas']\",\n",
       "       \"[u'Christian Bale', u'Ni Ni', u'Xinyi Zhang']\",\n",
       "       \"[u'Bela Lugosi', u'Helen Chandler', u'David Manners']\",\n",
       "       \"[u'Clint Eastwood', u'Verna Bloom', u'Marianna Hill']\",\n",
       "       \"[u'Sean Penn', u'Michelle Pfeiffer', u'Dakota Fanning']\",\n",
       "       \"[u'Kathy Bates', u'Jessica Tandy', u'Mary Stuart Masterson']\",\n",
       "       \"[u'Jackie Earle Haley', u'Patrick Wilson', u'Carla Gugino']\",\n",
       "       \"[u'Cillian Murphy', u'Naomie Harris', u'Christopher Eccleston']\",\n",
       "       \"[u'Edward Norton', u'Jessica Biel', u'Paul Giamatti']\",\n",
       "       \"[u'Michael Cera', u'Jonah Hill', u'Christopher Mintz-Plasse']\",\n",
       "       \"[u'Al Pacino', u'Diane Keaton', u'Andy Garcia']\",\n",
       "       \"[u'Gene Hackman', u'Gwyneth Paltrow', u'Anjelica Huston']\",\n",
       "       \"[u'Phil Harris', u'Sebastian Cabot', u'Louis Prima']\",\n",
       "       \"[u'Aaron Eckhart', u'Cameron Bright', u'Maria Bello']\",\n",
       "       \"[u'Beno\\\\xeet Poelvoorde', u'Jacqueline Poelvoorde-Pappaert', u'Nelly Pappaert']\",\n",
       "       \"[u'Tom Cruise', u'Jack Nicholson', u'Demi Moore']\",\n",
       "       \"[u'Jackie Chan', u'Ho-Sung Pak', u'Lung Ti']\",\n",
       "       \"[u'Khalid Abdalla', u'Ahmad Khan Mahmoodzada', u'Atossa Leoni']\",\n",
       "       \"[u'Billy Crystal', u'Meg Ryan', u'Carrie Fisher']\",\n",
       "       \"[u'Eric Bana', u'Daniel Craig', u'Marie-Jos\\\\xe9e Croze']\",\n",
       "       \"[u'Jennifer Connelly', u'Ben Kingsley', u'Ron Eldard']\",\n",
       "       \"[u'Mel Gibson', u'Danny Glover', u'Gary Busey']\",\n",
       "       \"[u'John Belushi', u'Karen Allen', u'Tom Hulce']\",\n",
       "       \"[u'Nicolas Cage', u'Ethan Hawke', u'Jared Leto']\",\n",
       "       \"[u'Johnny Depp', u'Pen\\\\xe9lope Cruz', u'Franka Potente']\",\n",
       "       \"[u'Robert Downey Jr.', u'Jude Law', u'Rachel McAdams']\",\n",
       "       \"[u'Daniel Radcliffe', u'Emma Watson', u'Rupert Grint']\",\n",
       "       \"[u'Antonio Banderas', u'Elena Anaya', u'Jan Cornet']\",\n",
       "       \"[u'Brandon Lee', u'Michael Wincott', u'Rochelle Davis']\",\n",
       "       \"[u'Natalie Wood', u'George Chakiris', u'Richard Beymer']\",\n",
       "       \"[u'Jim Caviezel', u'Sean Penn', u'Nick Nolte']\",\n",
       "       \"[u'Christian Bale', u'Justin Theroux', u'Josh Lucas']\",\n",
       "       \"[u'Takeshi Kitano', u'Tadanobu Asano', u'Yui Natsukawa']\",\n",
       "       \"[u'Willem Dafoe', u'Harvey Keitel', u'Barbara Hershey']\",\n",
       "       \"[u'Leslie Nielsen', u'Priscilla Presley', u'O.J. Simpson']\",\n",
       "       \"[u'Nicole Kidman', u'Christopher Eccleston', u'Fionnula Flanagan']\",\n",
       "       \"[u'Peter Sellers', u'Claudine Longet', u'Natalia Borisova']\",\n",
       "       \"[u'Bruce Campbell', u'Embeth Davidtz', u'Marcus Gilbert']\",\n",
       "       \"[u'Jeremy Renner', u'Anthony Mackie', u'Brian Geraghty']\",\n",
       "       \"[u'Iko Uwais', u'Ananda George', u'Ray Sahetapy']\",\n",
       "       \"[u'Pen\\\\xe9lope Cruz', u'Carmen Maura', u'Lola Due\\\\xf1as']\",\n",
       "       \"[u'Jeremy Theobald', u'Alex Haw', u'Lucy Russell']\",\n",
       "       \"[u'Jack Black', u'Ian McShane', u'Angelina Jolie']\",\n",
       "       \"[u'Mel Gibson', u'Bruce Spence', u'Michael Preston']\",\n",
       "       \"[u'K\\\\xf4ji Yakusho', u'Takayuki Yamada', u'Y\\\\xfbsuke Iseya']\",\n",
       "       \"[u'Billy Bob Thornton', u'Frances McDormand', u'Michael Badalucco']\",\n",
       "       \"[u'Karl Markovics', u'August Diehl', u'Devid Striesow']\",\n",
       "       \"[u'Sean Connery', u'Alec Baldwin', u'Scott Glenn']\",\n",
       "       \"[u'Mark Wahlberg', u'Taylor Kitsch', u'Emile Hirsch']\",\n",
       "       \"[u'John Cleese', u'Jamie Lee Curtis', u'Kevin Kline']\",\n",
       "       \"[u'Naomi Watts', u'Ewan McGregor', u'Tom Holland']\",\n",
       "       \"[u'Zach Braff', u'Peter Sarsgaard', u'Natalie Portman']\",\n",
       "       \"[u'Clint Eastwood', u'Patrick McGoohan', u'Roberts Blossom']\",\n",
       "       \"[u'Tom Hanks', u'Bill Paxton', u'Kevin Bacon']\",\n",
       "       \"[u'Tony Chiu Wai Leung', u'Wei Tang', u'Joan Chen']\",\n",
       "       \"[u'David Oyelowo', u'Carmen Ejogo', u'Tim Roth']\",\n",
       "       \"[u'Susanne Lothar', u'Ulrich M\\\\xfche', u'Arno Frisch']\",\n",
       "       \"[u'Ed Harris', u'Mary Elizabeth Mastrantonio', u'Michael Biehn']\",\n",
       "       \"[u'Brian Bedford', u'Phil Harris', u'Roger Miller']\",\n",
       "       \"[u'Jude Law', u'Ed Harris', u'Joseph Fiennes']\",\n",
       "       \"[u'Michael Douglas', u'Robert Duvall', u'Barbara Hershey']\",\n",
       "       \"[u'Kate Winslet', u'Jennifer Connelly', u'Patrick Wilson']\",\n",
       "       \"[u'Stuart Graham', u'Laine Megaw', u'Brian Milligan']\",\n",
       "       \"[u'Harrison Ford', u'Kate Capshaw', u'Jonathan Ke Quan']\",\n",
       "       \"[u'Donnie Yen', u'Xiaoming Huang', u'Sammo Kam-Bo Hung']\",\n",
       "       \"[u'Jodi Benson', u'Samuel E. Wright', u'Rene Auberjonois']\",\n",
       "       \"[u'Spencer Tracy', u'Milton Berle', u'Ethel Merman']\",\n",
       "       \"[u'Kate Winslet', u'Ralph Fiennes', u'Bruno Ganz']\",\n",
       "       \"[u'Gregory Peck', u'Lee Remick', u'Harvey Stephens']\",\n",
       "       \"[u'Alicia Vikander', u'Mads Mikkelsen', u'Mikkel Boe F\\\\xf8lsgaard']\",\n",
       "       \"[u'Timothy Balme', u'Diana Pe\\\\xf1alver', u'Elizabeth Moody']\",\n",
       "       \"[u'Haley Joel Osment', u'Michael Caine', u'Robert Duvall']\",\n",
       "       \"[u'Jason Bateman', u'Jonah Bobo', u'Haley Ramm']\",\n",
       "       \"[u'Colin Firth', u'Julianne Moore', u'Matthew Goode']\",\n",
       "       \"[u'Gene Hackman', u'Barbara Hershey', u'Dennis Hopper']\",\n",
       "       \"[u'Brad Pitt', u'Robin Wright', u'Jonah Hill']\",\n",
       "       \"[u'Sophie N\\\\xe9lisse', u'Geoffrey Rush', u'Emily Watson']\",\n",
       "       \"[u'Bruce Willis', u'Jeremy Irons', u'Samuel L. Jackson']\",\n",
       "       \"[u'Brad Pitt', u'Tom Cruise', u'Antonio Banderas']\",\n",
       "       \"[u'Robert De Niro', u'Charles Grodin', u'Yaphet Kotto']\",\n",
       "       \"[u'David Naughton', u'Jenny Agutter', u'Joe Belcher']\",\n",
       "       \"[u'Denzel Washington', u'Forest Whitaker', u'Kimberly Elise']\",\n",
       "       \"[u'Tyler Labine', u'Alan Tudyk', u'Katrina Bowden']\",\n",
       "       \"[u'Susan Sarandon', u'Sean Penn', u'Robert Prosky']\",\n",
       "       \"[u'Holly Hunter', u'Harvey Keitel', u'Sam Neill']\",\n",
       "       \"[u'Ben Affleck', u'Rebecca Hall', u'Jon Hamm']\",\n",
       "       \"[u'James Franco', u'Andy Serkis', u'Freida Pinto']\",\n",
       "       \"[u'Hilary Swank', u'Chlo\\\\xeb Sevigny', u'Peter Sarsgaard']\",\n",
       "       \"[u'Denis Leary', u'John Leguizamo', u'Ray Romano']\",\n",
       "       \"[u'John Malkovich', u'Gary Sinise', u'Ray Walston']\",\n",
       "       \"[u'Paul Giamatti', u'Thomas Haden Church', u'Virginia Madsen']\",\n",
       "       \"[u'John Cusack', u'Iben Hjejle', u'Todd Louiso']\",\n",
       "       \"[u'John Cleese', u'Terry Gilliam', u'Eric Idle']\",\n",
       "       \"[u'Asa Butterfield', u'Chlo\\\\xeb Grace Moretz', u'Christopher Lee']\",\n",
       "       \"[u'Nicolas Cage', u'Elisabeth Shue', u'Julian Sands']\",\n",
       "       \"[u'Bruce Campbell', u'Ellen Sandweiss', u'Richard DeManincor']\",\n",
       "       \"[u'Tom Cruise', u'Jamie Foxx', u'Jada Pinkett Smith']\",\n",
       "       \"[u'Steve Martin', u'John Candy', u'Laila Robins']\",\n",
       "       \"[u'Aksel Hennie', u'Synn\\\\xf8ve Macody Lund', u'Nikolaj Coster-Waldau']\",\n",
       "       \"[u'Kevin Costner', u'James Earl Jones', u'Ray Liotta']\",\n",
       "       \"[u'Michael Keaton', u'Jack Nicholson', u'Kim Basinger']\",\n",
       "       \"[u'Fran\\\\xe7ois Cluzet', u'Marie-Jos\\\\xe9e Croze', u'Andr\\\\xe9 Dussollier']\",\n",
       "       \"[u'Forest Whitaker', u'Henry Silva', u'John Tormey']\",\n",
       "       \"[u'Robert Downey Jr.', u'Geraldine Chaplin', u'Paul Rhys']\",\n",
       "       \"[u'Elisabeth Harnois', u'Jesse McCartney', u'Margo Harshman']\",\n",
       "       \"[u'Ellen Page', u'Michael Cera', u'Jennifer Garner']\",\n",
       "       \"[u'Brad Pitt', u'Casey Affleck', u'Sam Shepard']\",\n",
       "       \"[u'Jeff Bridges', u'Robin Williams', u'Adam Bryant']\",\n",
       "       \"[u'Ziyi Zhang', u'Takeshi Kaneshiro', u'Andy Lau']\",\n",
       "       \"[u'Meryl Streep', u'Nicole Kidman', u'Julianne Moore']\",\n",
       "       \"[u'Colm Meaney', u'Henry Goodman', u'David Roper']\",\n",
       "       \"[u'Patrick Stewart', u'Jonathan Frakes', u'Brent Spiner']\",\n",
       "       \"[u'Robert Redford', u'Robert Duvall', u'Glenn Close']\",\n",
       "       \"[u'Ian McKellen', u'Martin Freeman', u'Richard Armitage']\",\n",
       "       \"[u'Christian Bale', u'Sean Bean', u'Emily Watson']\",\n",
       "       \"[u'Freddie Highmore', u'Keri Russell', u'Jonathan Rhys Meyers']\",\n",
       "       \"[u'Emma Thompson', u'Tom Hanks', u'Annie Rose Buckley']\",\n",
       "       \"[u'Denzel Washington', u'Vicellous Reon Shannon', u'Deborah Kara Unger']\",\n",
       "       \"[u'Tim Robbins', u'Elizabeth Pe\\\\xf1a', u'Danny Aiello']\",\n",
       "       \"[u'Peter Sallis', u'Helena Bonham Carter', u'Ralph Fiennes']\",\n",
       "       '[u\\'Chevy Chase\\', u\"Beverly D\\'Angelo\", u\\'Juliette Lewis\\']',\n",
       "       \"[u'David Strathairn', u'George Clooney', u'Patricia Clarkson']\",\n",
       "       \"[u'Dustin Hoffman', u'Susan George', u'Peter Vaughan']\",\n",
       "       \"[u'Chadwick Boseman', u'T.R. Knight', u'Harrison Ford']\",\n",
       "       \"[u'Sean Astin', u'Jon Favreau', u'Ned Beatty']\",\n",
       "       \"[u'Robert De Niro', u'Kevin Bacon', u'Brad Pitt']\",\n",
       "       \"[u'Cillian Murphy', u'Padraic Delaney', u'Liam Cunningham']\",\n",
       "       \"[u'Leonardo DiCaprio', u'Cameron Diaz', u'Daniel Day-Lewis']\",\n",
       "       \"[u'Cate Blanchett', u'Geoffrey Rush', u'Christopher Eccleston']\",\n",
       "       \"[u'Elijah Wood', u'Charlie Hunnam', u'Claire Forlani']\",\n",
       "       \"[u'Adam Sandler', u'Don Cheadle', u'Jada Pinkett Smith']\",\n",
       "       '[u\\'Peter Weller\\', u\\'Nancy Allen\\', u\"Dan O\\'Herlihy\"]',\n",
       "       \"[u'Kevin Spacey', u'Kate Winslet', u'Laura Linney']\",\n",
       "       \"[u'Hayden Christensen', u'Kevin Kline', u'Kristin Scott Thomas']\",\n",
       "       \"[u'Steve Carell', u'Kristen Wiig', u'Benjamin Bratt']\",\n",
       "       \"[u'Pam Grier', u'Samuel L. Jackson', u'Robert Forster']\",\n",
       "       \"[u'Tyrin Turner', u'Larenz Tate', u'June Kyoto Lu']\",\n",
       "       \"[u'Fran\\\\xe7ois B\\\\xe9gaudeau', u'Agame Malembo-Emene', u'Ang\\\\xe9lica Sancio']\",\n",
       "       \"[u'John Cusack', u'Dianne Wiest', u'Jennifer Tilly']\",\n",
       "       \"[u'Paul Giamatti', u'Shari Springer Berman', u'Harvey Pekar']\",\n",
       "       \"[u'Ben Whishaw', u'Dustin Hoffman', u'Alan Rickman']\",\n",
       "       \"[u'Tom Hanks', u'Halle Berry', u'Hugh Grant']\",\n",
       "       \"[u'Dustin Hoffman', u'Laurence Olivier', u'Roy Scheider']\",\n",
       "       \"[u'Dickie Jones', u'Christian Rub', u'Mel Blanc']\",\n",
       "       \"[u'Naomi Watts', u'Edward Norton', u'Liev Schreiber']\",\n",
       "       \"[u'Bill Paxton', u'Billy Bob Thornton', u'Bridget Fonda']\",\n",
       "       \"[u'Patrick Wilson', u'Vera Farmiga', u'Ron Livingston']\",\n",
       "       \"[u'James Stewart', u'Doris Day', u'Brenda de Banzie']\",\n",
       "       \"[u'Ralph Fiennes', u'John Turturro', u'Rob Morrow']\",\n",
       "       \"[u'Richard Dreyfuss', u'Ron Howard', u'Paul Le Mat']\",\n",
       "       \"[u'Clint Eastwood', u'Meryl Streep', u'Annie Corley']\",\n",
       "       \"[u'Mel Gibson', u'Mark Lee', u'Bill Kerr']\",\n",
       "       \"[u'Jean-Claude Donda', u'Eilidh Rankin', u'Duncan MacNeil']\",\n",
       "       \"[u'Kurt Russell', u'Patricia Clarkson', u'Nathan West']\",\n",
       "       \"[u'Catalina Sandino Moreno', u'Guilied Lopez', u'Orlando Tob\\\\xf3n']\",\n",
       "       \"[u'Michael Cera', u'Mary Elizabeth Winstead', u'Kieran Culkin']\",\n",
       "       \"[u'Tobey Maguire', u'Jeff Daniels', u'Joan Allen']\",\n",
       "       \"[u'Robert Downey Jr.', u'Jude Law', u'Jared Harris']\",\n",
       "       \"[u'Meryl Streep', u'Philip Seymour Hoffman', u'Amy Adams']\",\n",
       "       \"[u'Jeff Goldblum', u'Geena Davis', u'John Getz']\",\n",
       "       \"[u'Bel\\\\xe9n Rueda', u'Fernando Cayo', u'Roger Pr\\\\xedncep']\",\n",
       "       \"[u'Monica Bellucci', u'Giuseppe Sulfaro', u'Luciano Federico']\",\n",
       "       \"[u'Robert Redford', u'Faye Dunaway', u'Cliff Robertson']\",\n",
       "       \"[u'Manuela Velasco', u'Ferran Terraza', u'Jorge-Yamam Serrano']\",\n",
       "       \"[u'Kevin Costner', u'Clint Eastwood', u'Laura Dern']\",\n",
       "       \"[u'Cary Grant', u'Grace Kelly', u'Jessie Royce Landis']\",\n",
       "       '[u\\'Fred Willard\\', u\\'Eugene Levy\\', u\"Catherine O\\'Hara\"]',\n",
       "       \"[u'Elijah Wood', u'Eugene Hutz', u'Boris Leskin']\",\n",
       "       \"[u'Heather Langenkamp', u'Johnny Depp', u'Robert Englund']\",\n",
       "       \"[u'Kevin Kline', u'Joan Allen', u'Sigourney Weaver']\",\n",
       "       \"[u'Patrick Stewart', u'Hugh Jackman', u'Halle Berry']\",\n",
       "       \"[u'Tilda Swinton', u'John C. Reilly', u'Ezra Miller']\",\n",
       "       \"[u'Stephen Dorff', u'Marisol Nichols', u'Vincent Miller']\",\n",
       "       \"[u'Julianne Moore', u'Alec Baldwin', u'Kristen Stewart']\",\n",
       "       \"[u'Marion Cotillard', u'Matthias Schoenaerts', u'Armand Verdure']\",\n",
       "       \"[u'Hilary Swank', u'Imelda Staunton', u'Patrick Dempsey']\",\n",
       "       \"[u'Brad Pitt', u'Anthony Hopkins', u'Aidan Quinn']\",\n",
       "       \"[u'Vincent Gallo', u'Christina Ricci', u'Ben Gazzara']\",\n",
       "       \"[u'Ralph Fiennes', u'Rachel Weisz', u'Hubert Kound\\\\xe9']\",\n",
       "       \"[u'Joe Pesci', u'Marisa Tomei', u'Ralph Macchio']\",\n",
       "       \"[u'Marilyn Burns', u'Edwin Neal', u'Allen Danziger']\",\n",
       "       \"[u'Ming-Na Wen', u'Eddie Murphy', u'BD Wong']\",\n",
       "       \"[u'Viggo Mortensen', u'Maria Bello', u'Ed Harris']\",\n",
       "       \"[u'Kevin Costner', u'Robert Duvall', u'Diego Luna']\",\n",
       "       \"[u'Arnold Schwarzenegger', u'Sharon Stone', u'Michael Ironside']\",\n",
       "       \"[u'Sean Gullette', u'Mark Margolis', u'Ben Shenkman']\",\n",
       "       \"[u'Marisa Paredes', u'Eduardo Noriega', u'Federico Luppi']\",\n",
       "       \"[u'Leonardo DiCaprio', u'Cate Blanchett', u'Kate Beckinsale']\",\n",
       "       \"[u'Keanu Reeves', u'Al Pacino', u'Charlize Theron']\",\n",
       "       \"[u'Hugo Weaving', u'Guy Pearce', u'Terence Stamp']\",\n",
       "       \"[u'Daniel Radcliffe', u'Emma Watson', u'Rupert Grint']\",\n",
       "       \"[u'Michael B. Jordan', u'Melonie Diaz', u'Octavia Spencer']\",\n",
       "       \"[u'Tom Wilkinson', u'Sissy Spacek', u'Nick Stahl']\",\n",
       "       \"[u'Jake Gyllenhaal', u'Michelle Monaghan', u'Vera Farmiga']\",\n",
       "       \"[u'Javier Bardem', u'Maricel \\\\xc1lvarez', u'Hanaa Bouchaib']\",\n",
       "       \"[u'Sean Connery', u'Robert Shaw', u'Lotte Lenya']\",\n",
       "       '[u\\'Brendan Gleeson\\', u\"Chris O\\'Dowd\", u\\'Kelly Reilly\\']',\n",
       "       \"[u'Robert De Niro', u'Jeremy Irons', u'Ray McAnally']\",\n",
       "       \"[u'Tom Hollander', u'Peter Capaldi', u'James Gandolfini']\",\n",
       "       \"[u'Tommy Lee Jones', u'Barry Pepper', u'Dwight Yoakam']\",\n",
       "       \"[u'Brad Pitt', u'Cate Blanchett', u'Gael Garc\\\\xeda Bernal']\",\n",
       "       \"[u'Jon Finch', u'Barry Foster', u'Alec McCowen']\",\n",
       "       \"[u'Melanie Lynskey', u'Kate Winslet', u'Sarah Peirse']\",\n",
       "       \"[u'Johnny Depp', u'Helena Bonham Carter', u'Alan Rickman']\",\n",
       "       \"[u'Gary Oldman', u'Winona Ryder', u'Anthony Hopkins']\",\n",
       "       \"[u'Joseph Gordon-Levitt', u'Bruce Willis', u'Emily Blunt']\",\n",
       "       \"[u'Ray Winstone', u'Guy Pearce', u'Emily Watson']\",\n",
       "       \"[u'Steve McQueen', u'Jacqueline Bisset', u'Robert Vaughn']\",\n",
       "       \"[u'Daniel Radcliffe', u'Rupert Grint', u'Richard Harris']\",\n",
       "       \"[u'Tony Chiu Wai Leung', u'Ziyi Zhang', u'Faye Wong']\",\n",
       "       \"[u'Felicity Huffman', u'Kevin Zegers', u'Fionnula Flanagan']\",\n",
       "       \"[u'Harvey Keitel', u'William Hurt', u'Giancarlo Esposito']\",\n",
       "       \"[u'Jessica Harper', u'Stefania Casini', u'Flavio Bucci']\",\n",
       "       \"[u'Robert Downey Jr.', u'Robert Duvall', u'Vera Farmiga']\",\n",
       "       \"[u'Gael Garc\\\\xeda Bernal', u'Fele Mart\\\\xednez', u'Javier C\\\\xe1mara']\",\n",
       "       \"[u'George Clooney', u'Vera Farmiga', u'Anna Kendrick']\",\n",
       "       \"[u'Keira Knightley', u'Mark Ruffalo', u'Adam Levine']\",\n",
       "       \"[u'Paul Walker', u'Cameron Bright', u'Chazz Palminteri']\",\n",
       "       \"[u'Steve Buscemi', u'Thora Birch', u'Scarlett Johansson']\",\n",
       "       \"[u'Harrison Ford', u'Kelly McGillis', u'Lukas Haas']\",\n",
       "       \"[u'Eddie Murphy', u'Dan Aykroyd', u'Ralph Bellamy']\",\n",
       "       \"[u'Matthew McConaughey', u'Tye Sheridan', u'Jacob Lofland']\",\n",
       "       \"[u'Evan Rachel Wood', u'Jim Sturgess', u'Joe Anderson']\",\n",
       "       \"[u'Liam Neeson', u'Geoffrey Rush', u'Uma Thurman']\",\n",
       "       \"[u'Cate Blanchett', u'Judi Dench', u'Andrew Simpson']\",\n",
       "       \"[u'Oscar Isaac', u'Carey Mulligan', u'John Goodman']\",\n",
       "       \"[u'Joseph Gordon-Levitt', u'Lukas Haas', u'Emilie de Ravin']\",\n",
       "       '[u\"Brian O\\'Halloran\", u\\'Jeff Anderson\\', u\\'Rosario Dawson\\']',\n",
       "       \"[u'John Cusack', u'Ione Skye', u'John Mahoney']\",\n",
       "       \"[u'Jim Carrey', u'Danny DeVito', u'Gerry Becker']\",\n",
       "       \"[u'Robert De Niro', u'Harvey Keitel', u'David Proval']\",\n",
       "       \"[u'Daniel Radcliffe', u'Emma Watson', u'Rupert Grint']\",\n",
       "       \"[u'Alec Baldwin', u'Geena Davis', u'Michael Keaton']\",\n",
       "       \"[u'Steve Carell', u'Ryan Gosling', u'Julianne Moore']\",\n",
       "       \"[u'Nigel Terry', u'Helen Mirren', u'Nicholas Clay']\",\n",
       "       \"[u'John Wayne', u'Kim Darby', u'Glen Campbell']\",\n",
       "       \"[u'David Bowie', u'Jennifer Connelly', u'Toby Froud']\",\n",
       "       \"[u'Kathryn Beaumont', u'Ed Wynn', u'Richard Haydn']\",\n",
       "       \"[u'Ethan Hawke', u'Sarah Snook', u'Noah Taylor']\",\n",
       "       \"[u'Kenneth Branagh', u'Emma Thompson', u'Keanu Reeves']\",\n",
       "       '[u\\'Sean Connery\\', u\"Ryan O\\'Neal\", u\\'Michael Caine\\']',\n",
       "       \"[u'Nicolas Cage', u'Holly Hunter', u'Trey Wilson']\",\n",
       "       \"[u'Jack Nicholson', u'Morgan Freeman', u'Sean Hayes']\",\n",
       "       \"[u'Shirley MacLaine', u'Debra Winger', u'Jack Nicholson']\",\n",
       "       \"[u'Michael Shannon', u'Jessica Chastain', u'Shea Whigham']\",\n",
       "       \"[u'Julianne Moore', u'Dennis Quaid', u'Dennis Haysbert']\",\n",
       "       \"[u'Jack Nance', u'Charlotte Stewart', u'Allen Joseph']\",\n",
       "       \"[u'Greta Gerwig', u'Mickey Sumner', u'Adam Driver']\",\n",
       "       \"[u'Macaulay Culkin', u'Joe Pesci', u'Daniel Stern']\",\n",
       "       \"[u'Jennifer Tilly', u'Gina Gershon', u'Joe Pantoliano']\",\n",
       "       \"[u'Johnny Depp', u'Christina Ricci', u'Miranda Richardson']\",\n",
       "       \"[u'Philip Seymour Hoffman', u'Bill Nighy', u'Nick Frost']\",\n",
       "       \"[u'Noah Hathaway', u'Barret Oliver', u'Tami Stronach']\",\n",
       "       \"[u'Patrick Stewart', u'Hugh Jackman', u'Ian McKellen']\",\n",
       "       \"[u'Jessica Chastain', u'Joel Edgerton', u'Chris Pratt']\",\n",
       "       \"[u'Woody Allen', u'Diane Keaton', u'Jerry Adler']\",\n",
       "       '[u\\'Chevy Chase\\', u\"Beverly D\\'Angelo\", u\\'Imogene Coca\\']',\n",
       "       \"[u'Cameron Diaz', u'Abigail Breslin', u'Alec Baldwin']\",\n",
       "       \"[u'Woody Allen', u'Judy Davis', u'Julia Louis-Dreyfus']\",\n",
       "       \"[u'Steve Carell', u'Toni Collette', u'Allison Janney']\",\n",
       "       \"[u'Philip Seymour Hoffman', u'Clifton Collins Jr.', u'Catherine Keener']\",\n",
       "       \"[u'Morgan Freeman', u'Jessica Tandy', u'Dan Aykroyd']\",\n",
       "       \"[u'Anne Parillaud', u'Marc Duret', u'Patrick Fontana']\",\n",
       "       \"[u'Daniel Day-Lewis', u'Sally Field', u'David Strathairn']\",\n",
       "       \"[u'Bradley Cooper', u'Anna Friel', u'Abbie Cornish']\",\n",
       "       \"[u'Dan Castellaneta', u'Julie Kavner', u'Nancy Cartwright']\",\n",
       "       \"[u'Sean Connery', u'Nicolas Cage', u'Ed Harris']\",\n",
       "       \"[u'Ralph Fiennes', u'Juliette Binoche', u'Willem Dafoe']\",\n",
       "       \"[u'Gerard Butler', u'Jamie Foxx', u'Leslie Bibb']\",\n",
       "       \"[u'Michael Douglas', u'Tobey Maguire', u'Frances McDormand']\",\n",
       "       \"[u'Matthew Macfadyen', u'Peter Dinklage', u'Ewen Bremner']\",\n",
       "       \"[u'Ryan Gosling', u'Michelle Williams', u'John Doman']\",\n",
       "       \"[u'Tobey Maguire', u'Charlize Theron', u'Michael Caine']\",\n",
       "       \"[u'Dustin Hoffman', u'Jessica Lange', u'Teri Garr']\",\n",
       "       \"[u'Michael J. Fox', u'Christopher Lloyd', u'Mary Steenburgen']\",\n",
       "       \"[u'Russell Crowe', u'Paul Bettany', u'Billy Boyd']\",\n",
       "       '[u\\'JoBeth Williams\\', u\"Heather O\\'Rourke\", u\\'Craig T. Nelson\\']',\n",
       "       \"[u'Charlie Sheen', u'Michael Douglas', u'Tamara Tunie']\"], dtype=object)"
      ]
     },
     "execution_count": 224,
     "metadata": {},
     "output_type": "execute_result"
    }
   ],
   "source": [
    "actors = movies.loc[:,'actors_list'].values\n",
    "actors"
   ]
  }
 ],
 "metadata": {
  "kernelspec": {
   "display_name": "Python 3",
   "language": "python",
   "name": "python3"
  },
  "language_info": {
   "codemirror_mode": {
    "name": "ipython",
    "version": 3
   },
   "file_extension": ".py",
   "mimetype": "text/x-python",
   "name": "python",
   "nbconvert_exporter": "python",
   "pygments_lexer": "ipython3",
   "version": "3.6.3"
  }
 },
 "nbformat": 4,
 "nbformat_minor": 1
}
